{
  "nbformat": 4,
  "nbformat_minor": 0,
  "metadata": {
    "colab": {
      "name": "Q2-HW3",
      "provenance": []
    },
    "kernelspec": {
      "name": "python3",
      "display_name": "Python 3"
    }
  },
  "cells": [
    {
      "cell_type": "code",
      "metadata": {
        "id": "vUmx3ZP1g-OR",
        "colab_type": "code",
        "colab": {}
      },
      "source": [
        "import numpy as np"
      ],
      "execution_count": 0,
      "outputs": []
    },
    {
      "cell_type": "markdown",
      "metadata": {
        "id": "4YDqBcVajLXb",
        "colab_type": "text"
      },
      "source": [
        "## Part1"
      ]
    },
    {
      "cell_type": "code",
      "metadata": {
        "id": "jTssPfnLjMmh",
        "colab_type": "code",
        "colab": {}
      },
      "source": [
        "s = np.array([1, 1, 1, -1])"
      ],
      "execution_count": 0,
      "outputs": []
    },
    {
      "cell_type": "code",
      "metadata": {
        "id": "KOEZcEZajZA3",
        "colab_type": "code",
        "colab": {}
      },
      "source": [
        "def make_weight_matrix(inputs):\n",
        "  o = 0\n",
        "  for i in range(len(inputs)):\n",
        "    m = np.matmul(inputs[i], inputs[i].T) - np.eye(len(inputs[i]), dtype = int)\n",
        "    o += m\n",
        "  return o"
      ],
      "execution_count": 0,
      "outputs": []
    },
    {
      "cell_type": "code",
      "metadata": {
        "id": "mgDulP39mjpJ",
        "colab_type": "code",
        "colab": {}
      },
      "source": [
        "def make_predictions(input_pattern, weight, activation_function):\n",
        "  return activation_function(np.matmul(input_pattern.T, weight)).T"
      ],
      "execution_count": 0,
      "outputs": []
    },
    {
      "cell_type": "code",
      "metadata": {
        "id": "j0QoJNwpm0bB",
        "colab_type": "code",
        "colab": {}
      },
      "source": [
        "def activation_function(x):\n",
        "  return 2*(x>=0) - 1"
      ],
      "execution_count": 0,
      "outputs": []
    },
    {
      "cell_type": "code",
      "metadata": {
        "id": "wY28z3XGjZfn",
        "colab_type": "code",
        "colab": {}
      },
      "source": [
        "s = s.reshape(-1, 1)\n",
        "weight = make_weight_matrix([s])"
      ],
      "execution_count": 0,
      "outputs": []
    },
    {
      "cell_type": "code",
      "metadata": {
        "id": "LRAOuQ73m1Fs",
        "colab_type": "code",
        "colab": {}
      },
      "source": [
        "prediction = make_predictions(s, weight, activation_function)"
      ],
      "execution_count": 0,
      "outputs": []
    },
    {
      "cell_type": "code",
      "metadata": {
        "id": "hVyBKsZknHDp",
        "colab_type": "code",
        "outputId": "a6fad6c3-2b64-440b-b509-303fddc65cfd",
        "colab": {
          "base_uri": "https://localhost:8080/",
          "height": 191
        }
      },
      "source": [
        "print(\"original pattern is: \")\n",
        "print(s)\n",
        "print(\"predicted pattern is: \")\n",
        "print(prediction)"
      ],
      "execution_count": 0,
      "outputs": [
        {
          "output_type": "stream",
          "text": [
            "original pattern is: \n",
            "[[ 1]\n",
            " [ 1]\n",
            " [ 1]\n",
            " [-1]]\n",
            "predicted pattern is: \n",
            "[[ 1]\n",
            " [ 1]\n",
            " [ 1]\n",
            " [-1]]\n"
          ],
          "name": "stdout"
        }
      ]
    },
    {
      "cell_type": "markdown",
      "metadata": {
        "id": "hlWjIogwnf3P",
        "colab_type": "text"
      },
      "source": [
        "## Part2"
      ]
    },
    {
      "cell_type": "code",
      "metadata": {
        "id": "XHgzB8_UnQXX",
        "colab_type": "code",
        "colab": {}
      },
      "source": [
        "a = np.array([-1, 1, 1, 1])\n",
        "a = a.reshape(-1, 1)"
      ],
      "execution_count": 0,
      "outputs": []
    },
    {
      "cell_type": "code",
      "metadata": {
        "id": "8h2l4jVtnhI2",
        "colab_type": "code",
        "colab": {}
      },
      "source": [
        "weight2 = make_weight_matrix([s, a])"
      ],
      "execution_count": 0,
      "outputs": []
    },
    {
      "cell_type": "code",
      "metadata": {
        "id": "PAhaYmWeo4Ze",
        "colab_type": "code",
        "colab": {}
      },
      "source": [
        "prediction_s = make_predictions(s, weight2, activation_function)\n",
        "prediction_a = make_predictions(a, weight2, activation_function)"
      ],
      "execution_count": 0,
      "outputs": []
    },
    {
      "cell_type": "code",
      "metadata": {
        "id": "zCCzGVNFpGKn",
        "colab_type": "code",
        "outputId": "e34a0b07-c0c3-4cb7-b113-7bca721fc0a1",
        "colab": {
          "base_uri": "https://localhost:8080/",
          "height": 191
        }
      },
      "source": [
        "print(\"original pattern for s is: \")\n",
        "print(s)\n",
        "print(\"predicted pattern for s is: \")\n",
        "print(prediction_s)"
      ],
      "execution_count": 0,
      "outputs": [
        {
          "output_type": "stream",
          "text": [
            "original pattern for s is: \n",
            "[[ 1]\n",
            " [ 1]\n",
            " [ 1]\n",
            " [-1]]\n",
            "predicted pattern for s is: \n",
            "[[ 1]\n",
            " [ 1]\n",
            " [ 1]\n",
            " [-1]]\n"
          ],
          "name": "stdout"
        }
      ]
    },
    {
      "cell_type": "code",
      "metadata": {
        "id": "ZYtGbBaPpKqa",
        "colab_type": "code",
        "outputId": "2351f171-6a57-4c63-d07d-95cca8362b1a",
        "colab": {
          "base_uri": "https://localhost:8080/",
          "height": 191
        }
      },
      "source": [
        "print(\"original pattern for a is: \")\n",
        "print(a)\n",
        "print(\"predicted pattern for a is: \")\n",
        "print(prediction_a)"
      ],
      "execution_count": 0,
      "outputs": [
        {
          "output_type": "stream",
          "text": [
            "original pattern for a is: \n",
            "[[-1]\n",
            " [ 1]\n",
            " [ 1]\n",
            " [ 1]]\n",
            "predicted pattern for a is: \n",
            "[[-1]\n",
            " [ 1]\n",
            " [ 1]\n",
            " [ 1]]\n"
          ],
          "name": "stdout"
        }
      ]
    },
    {
      "cell_type": "markdown",
      "metadata": {
        "id": "C3H6Obx4xI_X",
        "colab_type": "text"
      },
      "source": [
        "## Part3"
      ]
    },
    {
      "cell_type": "code",
      "metadata": {
        "id": "aESec-b0pYFc",
        "colab_type": "code",
        "colab": {}
      },
      "source": [
        "b = np.array([1, -1, 1, 1])\n",
        "b = b.reshape(-1, 1)"
      ],
      "execution_count": 0,
      "outputs": []
    },
    {
      "cell_type": "code",
      "metadata": {
        "id": "72FeXhVpxK35",
        "colab_type": "code",
        "colab": {}
      },
      "source": [
        "weight3 = make_weight_matrix([s, a, b])"
      ],
      "execution_count": 0,
      "outputs": []
    },
    {
      "cell_type": "code",
      "metadata": {
        "id": "pbDWCYOJxdbs",
        "colab_type": "code",
        "colab": {}
      },
      "source": [
        "prediction_s = make_predictions(s, weight3, activation_function)\n",
        "prediction_a = make_predictions(a, weight3, activation_function)\n",
        "prediction_b = make_predictions(b, weight3, activation_function)\n"
      ],
      "execution_count": 0,
      "outputs": []
    },
    {
      "cell_type": "code",
      "metadata": {
        "id": "E273zNWdxmKf",
        "colab_type": "code",
        "outputId": "261d0643-8883-48d0-fe06-f390472786d5",
        "colab": {
          "base_uri": "https://localhost:8080/",
          "height": 191
        }
      },
      "source": [
        "print(\"original pattern for s is: \")\n",
        "print(s)\n",
        "print(\"predicted pattern for s is: \")\n",
        "print(prediction_s)"
      ],
      "execution_count": 0,
      "outputs": [
        {
          "output_type": "stream",
          "text": [
            "original pattern for s is: \n",
            "[[ 1]\n",
            " [ 1]\n",
            " [ 1]\n",
            " [-1]]\n",
            "predicted pattern for s is: \n",
            "[[ 1]\n",
            " [ 1]\n",
            " [ 1]\n",
            " [-1]]\n"
          ],
          "name": "stdout"
        }
      ]
    },
    {
      "cell_type": "code",
      "metadata": {
        "id": "vL3MGl6FxpSa",
        "colab_type": "code",
        "outputId": "93dff694-12c2-411e-c386-ea029821d8d2",
        "colab": {
          "base_uri": "https://localhost:8080/",
          "height": 191
        }
      },
      "source": [
        "print(\"original pattern for a is: \")\n",
        "print(a)\n",
        "print(\"predicted pattern for a is: \")\n",
        "print(prediction_a)"
      ],
      "execution_count": 0,
      "outputs": [
        {
          "output_type": "stream",
          "text": [
            "original pattern for a is: \n",
            "[[-1]\n",
            " [ 1]\n",
            " [ 1]\n",
            " [ 1]]\n",
            "predicted pattern for a is: \n",
            "[[-1]\n",
            " [ 1]\n",
            " [ 1]\n",
            " [ 1]]\n"
          ],
          "name": "stdout"
        }
      ]
    },
    {
      "cell_type": "code",
      "metadata": {
        "id": "p9UkLPqpxs0W",
        "colab_type": "code",
        "outputId": "d89bd8a6-17e8-4dd7-b7bb-1800c037602e",
        "colab": {
          "base_uri": "https://localhost:8080/",
          "height": 191
        }
      },
      "source": [
        "print(\"original pattern for b is: \")\n",
        "print(b)\n",
        "print(\"predicted pattern for b is: \")\n",
        "print(prediction_b)"
      ],
      "execution_count": 0,
      "outputs": [
        {
          "output_type": "stream",
          "text": [
            "original pattern for b is: \n",
            "[[ 1]\n",
            " [-1]\n",
            " [ 1]\n",
            " [ 1]]\n",
            "predicted pattern for b is: \n",
            "[[ 1]\n",
            " [-1]\n",
            " [ 1]\n",
            " [ 1]]\n"
          ],
          "name": "stdout"
        }
      ]
    },
    {
      "cell_type": "markdown",
      "metadata": {
        "id": "XU6bPKtFxza3",
        "colab_type": "text"
      },
      "source": [
        "## Part4"
      ]
    },
    {
      "cell_type": "code",
      "metadata": {
        "id": "XHT_QEDlxwzv",
        "colab_type": "code",
        "colab": {}
      },
      "source": [
        "c = np.array([1, 1, -1, 1])"
      ],
      "execution_count": 0,
      "outputs": []
    },
    {
      "cell_type": "code",
      "metadata": {
        "id": "4t0P_0MIxyek",
        "colab_type": "code",
        "colab": {}
      },
      "source": [
        "c = c.reshape(-1, 1)"
      ],
      "execution_count": 0,
      "outputs": []
    },
    {
      "cell_type": "code",
      "metadata": {
        "id": "n3p3CYRAx0tp",
        "colab_type": "code",
        "colab": {}
      },
      "source": [
        "weight4 = make_weight_matrix([s, a, b, c])"
      ],
      "execution_count": 0,
      "outputs": []
    },
    {
      "cell_type": "code",
      "metadata": {
        "id": "ae_K5wDZyClk",
        "colab_type": "code",
        "colab": {}
      },
      "source": [
        "prediction_s = make_predictions(s, weight4, activation_function)\n",
        "prediction_a = make_predictions(a, weight4, activation_function)\n",
        "prediction_b = make_predictions(b, weight4, activation_function)\n",
        "prediction_c = make_predictions(c, weight4, activation_function)\n"
      ],
      "execution_count": 0,
      "outputs": []
    },
    {
      "cell_type": "code",
      "metadata": {
        "id": "moapOzNFyKcb",
        "colab_type": "code",
        "outputId": "bf740271-b8f7-4752-a529-c194c0c08728",
        "colab": {
          "base_uri": "https://localhost:8080/",
          "height": 191
        }
      },
      "source": [
        "print(\"original pattern for s is: \")\n",
        "print(s)\n",
        "print(\"predicted pattern for s is: \")\n",
        "print(prediction_s)"
      ],
      "execution_count": 0,
      "outputs": [
        {
          "output_type": "stream",
          "text": [
            "original pattern for s is: \n",
            "[[ 1]\n",
            " [ 1]\n",
            " [ 1]\n",
            " [-1]]\n",
            "predicted pattern for s is: \n",
            "[[1]\n",
            " [1]\n",
            " [1]\n",
            " [1]]\n"
          ],
          "name": "stdout"
        }
      ]
    },
    {
      "cell_type": "code",
      "metadata": {
        "id": "n50dBTfXyNXW",
        "colab_type": "code",
        "outputId": "2b61a199-6ec9-47c7-e1cf-85f06247386b",
        "colab": {
          "base_uri": "https://localhost:8080/",
          "height": 191
        }
      },
      "source": [
        "print(\"original pattern for a is: \")\n",
        "print(a)\n",
        "print(\"predicted pattern for a is: \")\n",
        "print(prediction_a)"
      ],
      "execution_count": 0,
      "outputs": [
        {
          "output_type": "stream",
          "text": [
            "original pattern for a is: \n",
            "[[-1]\n",
            " [ 1]\n",
            " [ 1]\n",
            " [ 1]]\n",
            "predicted pattern for a is: \n",
            "[[1]\n",
            " [1]\n",
            " [1]\n",
            " [1]]\n"
          ],
          "name": "stdout"
        }
      ]
    },
    {
      "cell_type": "code",
      "metadata": {
        "id": "vhYM6gTny_wb",
        "colab_type": "code",
        "outputId": "ed3b00c4-78f9-4409-e4ae-051d8f7d5104",
        "colab": {
          "base_uri": "https://localhost:8080/",
          "height": 191
        }
      },
      "source": [
        "print(\"original pattern for b is: \")\n",
        "print(b)\n",
        "print(\"predicted pattern for b is: \")\n",
        "print(prediction_b)"
      ],
      "execution_count": 0,
      "outputs": [
        {
          "output_type": "stream",
          "text": [
            "original pattern for b is: \n",
            "[[ 1]\n",
            " [-1]\n",
            " [ 1]\n",
            " [ 1]]\n",
            "predicted pattern for b is: \n",
            "[[1]\n",
            " [1]\n",
            " [1]\n",
            " [1]]\n"
          ],
          "name": "stdout"
        }
      ]
    },
    {
      "cell_type": "code",
      "metadata": {
        "id": "U8j5GklXzEqO",
        "colab_type": "code",
        "outputId": "a60a0f10-694d-4c29-8004-98d8832c0be6",
        "colab": {
          "base_uri": "https://localhost:8080/",
          "height": 191
        }
      },
      "source": [
        "print(\"original pattern for c is: \")\n",
        "print(c)\n",
        "print(\"predicted pattern for c is: \")\n",
        "print(prediction_c)"
      ],
      "execution_count": 0,
      "outputs": [
        {
          "output_type": "stream",
          "text": [
            "original pattern for c is: \n",
            "[[ 1]\n",
            " [ 1]\n",
            " [-1]\n",
            " [ 1]]\n",
            "predicted pattern for c is: \n",
            "[[1]\n",
            " [1]\n",
            " [1]\n",
            " [1]]\n"
          ],
          "name": "stdout"
        }
      ]
    },
    {
      "cell_type": "code",
      "metadata": {
        "id": "JE8P-SLYzKhG",
        "colab_type": "code",
        "colab": {}
      },
      "source": [
        ""
      ],
      "execution_count": 0,
      "outputs": []
    }
  ]
}