{
  "nbformat": 4,
  "nbformat_minor": 0,
  "metadata": {
    "colab": {
      "name": "Q4-HW3",
      "provenance": []
    },
    "kernelspec": {
      "name": "python3",
      "display_name": "Python 3"
    }
  },
  "cells": [
    {
      "cell_type": "code",
      "metadata": {
        "id": "_03yWQfy8a0m",
        "colab_type": "code",
        "colab": {}
      },
      "source": [
        "import numpy as np\n",
        "import matplotlib.pyplot as plt\n",
        "import copy"
      ],
      "execution_count": 0,
      "outputs": []
    },
    {
      "cell_type": "markdown",
      "metadata": {
        "id": "AXNIZY3K9moU",
        "colab_type": "text"
      },
      "source": [
        "## Part1"
      ]
    },
    {
      "cell_type": "code",
      "metadata": {
        "id": "PADTpEEq9ZpI",
        "colab_type": "code",
        "colab": {}
      },
      "source": [
        "A = np.array([\n",
        "    -1, -1, -1, -1, -1, -1, -1, +1, +1, -1, -1, -1, -1, -1, -1, -1,\n",
        "    -1, -1, -1, -1, -1, -1, -1, +1, +1, -1, -1, -1, -1, -1, -1, -1,\n",
        "    -1, -1, -1, -1, -1, -1, -1, +1, +1, -1, -1, -1, -1, -1, -1, -1,\n",
        "    -1, -1, -1, -1, -1, -1, -1, +1, +1, -1, -1, -1, -1, -1, -1, -1,\n",
        "    -1, -1, -1, -1, -1, -1, -1, +1, +1, -1, -1, -1, -1, -1, -1, -1,\n",
        "    -1, -1, -1, -1, -1, -1, +1, +1, +1, +1, -1, -1, -1, -1, -1, -1,\n",
        "    -1, -1, -1, -1, -1, +1, +1, +1, +1, +1, +1, -1, -1, -1, -1, -1,\n",
        "    -1, -1, -1, -1, +1, +1, +1, +1, +1, +1, +1, +1, -1, -1, -1, -1,\n",
        "    -1, -1, -1, +1, +1, +1, +1, +1, +1, +1, +1, +1, +1, -1, -1, -1,\n",
        "    -1, -1, +1, +1, +1, -1, -1, +1, +1, -1, -1, +1, +1, +1, -1, -1,\n",
        "    -1, +1, +1, +1, -1, -1, -1, +1, +1, -1, -1, -1, +1, +1, +1, -1,\n",
        "    +1, +1, +1, -1, -1, -1, -1, +1, +1, -1, -1, -1, -1, +1, +1, +1,\n",
        "    +1, +1, -1, -1, -1, -1, -1, +1, +1, -1, -1, -1, -1, -1, +1, +1,\n",
        "    +1, -1, -1, -1, -1, -1, -1, +1, +1, -1, -1, -1, -1, -1, -1, +1,\n",
        "    -1, -1, -1, -1, -1, -1, -1, +1, +1, -1, -1, -1, -1, -1, -1, -1,\n",
        "    -1, -1, -1, -1, -1, -1, +1, +1, +1, +1, -1, -1, -1, -1, -1, -1,\n",
        "    -1, -1, -1, -1, -1, -1, +1, +1, +1, +1, -1, -1, -1, -1, -1, -1,\n",
        "    -1, -1, -1, -1, -1, -1, +1, -1, -1, +1, -1, -1, -1, -1, -1, -1,\n",
        "])\n",
        "\n",
        "B = np.array([\n",
        "    -1, -1, -1, -1, -1, -1, +1, +1, +1, +1, -1, -1, -1, -1, -1, -1,\n",
        "    -1, -1, -1, -1, -1, -1, -1, +1, +1, -1, -1, -1, -1, -1, -1, -1,\n",
        "    -1, -1, -1, -1, -1, -1, -1, +1, +1, -1, -1, -1, -1, -1, -1, -1,\n",
        "    -1, -1, -1, -1, -1, -1, -1, +1, +1, -1, -1, -1, -1, -1, -1, -1,\n",
        "    -1, -1, -1, -1, -1, -1, -1, +1, +1, -1, -1, -1, -1, -1, -1, -1,\n",
        "    -1, -1, -1, -1, -1, -1, -1, +1, +1, -1, -1, -1, -1, -1, -1, -1,\n",
        "    -1, -1, -1, -1, -1, -1, -1, +1, +1, -1, -1, -1, -1, -1, -1, -1,\n",
        "    -1, -1, -1, -1, -1, -1, -1, +1, +1, -1, -1, -1, -1, -1, -1, -1,\n",
        "    -1, -1, -1, -1, -1, -1, -1, +1, +1, -1, -1, -1, -1, -1, -1, -1,\n",
        "    -1, -1, +1, +1, -1, -1, -1, +1, +1, -1, -1, -1, +1, +1, -1, -1,\n",
        "    -1, -1, +1, +1, -1, -1, +1, +1, +1, +1, -1, -1, +1, +1, -1, -1,\n",
        "    -1, -1, +1, +1, -1, +1, +1, +1, +1, +1, +1, -1, +1, +1, -1, -1,\n",
        "    -1, -1, +1, +1, +1, +1, +1, +1, +1, +1, +1, +1, +1, +1, -1, -1,\n",
        "    -1, -1, +1, +1, +1, +1, +1, +1, +1, +1, +1, +1, +1, +1, -1, -1,\n",
        "    -1, -1, +1, +1, -1, +1, +1, +1, +1, +1, +1, -1, +1, +1, -1, -1,\n",
        "    -1, -1, +1, +1, -1, -1, +1, +1, +1, +1, -1, -1, +1, +1, -1, -1,\n",
        "    -1, -1, +1, +1, -1, -1, -1, +1, +1, -1, -1, -1, +1, +1, -1, -1,\n",
        "    -1, -1, +1, +1, -1, -1, -1, +1, +1, -1, -1, -1, +1, +1, -1, -1,\n",
        "])"
      ],
      "execution_count": 0,
      "outputs": []
    },
    {
      "cell_type": "code",
      "metadata": {
        "id": "tNyXc8BpDKk3",
        "colab_type": "code",
        "colab": {}
      },
      "source": [
        "a = np.array([\n",
        "    +1, +1, +1, +1, -1, -1, +1, -1, -1, -1, -1,-1, -1, -1, +1, -1, -1,-1, +1, -1, -1, -1, -1, +1, -1, +1, +1, +1, +1,   \n",
        "    +1, -1, -1, -1, +1, -1, +1, -1, -1, -1, -1,-1, +1, +1, -1, +1, +1,-1, +1, +1, -1, -1, -1, +1, -1, +1, +1, +1, +1,   \n",
        "    +1, -1, -1, -1, +1, -1, +1, -1, -1, -1, -1,-1, +1, -1, -1, -1, +1,-1, +1, +1, +1, -1, -1, +1, -1, +1, -1, -1, -1,   \n",
        "    +1, -1, -1, -1, +1, -1, +1, -1, -1, -1, -1,-1, +1, -1, -1, -1, +1,-1, +1, +1, +1, +1, -1, +1, -1, +1, +1, +1, +1,   \n",
        "    +1, +1, +1, +1, -1, -1, +1, -1, -1, -1, -1,-1, +1, +1, +1, +1, +1,-1, +1, -1, +1, +1, +1, +1, -1, +1, +1, +1, +1,   \n",
        "    +1, -1, -1, -1, -1, -1, +1, -1, -1, -1, -1,-1, +1, -1, -1, -1, +1,-1, +1, -1, -1, +1, +1, +1, -1, +1, -1, -1, -1,   \n",
        "    +1, -1, -1, -1, -1, -1, +1, -1, -1, -1, +1,-1, +1, -1, -1, -1, +1,-1, +1, -1, -1, -1, +1, +1, -1, +1, +1, +1, +1,   \n",
        "    +1, -1, -1, -1, -1, -1, +1, +1, +1, +1, +1,-1, +1, -1, -1, -1, +1,-1, +1, -1, -1, -1, -1, +1, -1, +1, +1, +1, +1,\n",
        "])\n",
        "\n",
        "b = np.array([\n",
        "    +1, +1, +1, +1, +1, -1, -1, -1, -1, +1, -1, -1, -1, -1, +1, -1, -1, -1, -1, +1, -1, -1, +1, +1, -1, -1, +1, +1, +1,    \n",
        "    +1, +1, +1, +1, +1, -1, -1, +1, +1, -1, +1, +1, -1, -1, +1, +1, -1, -1, -1, +1, -1, -1, +1, +1, -1, +1, +1, +1, -1,    \n",
        "    -1, -1, +1, -1, -1, -1, -1, +1, -1, -1, -1, +1, -1, -1, +1, +1, +1, -1, -1, +1, -1, -1, +1, +1, +1, +1, +1, -1, -1,    \n",
        "    -1, -1, +1, -1, -1, -1, -1, +1, -1, -1, -1, +1, -1, -1, +1, +1, +1, +1, -1, +1, -1, -1, +1, +1, +1, +1, -1, -1, -1,    \n",
        "    -1, -1, +1, -1, -1, -1, -1, +1, +1, +1, +1, +1, -1, -1, +1, -1, +1, +1, +1, +1, -1, -1, +1, +1, +1, +1, -1, -1, -1,    \n",
        "    -1, -1, +1, -1, -1, -1, -1, +1, -1, -1, -1, +1, -1, -1, +1, -1, -1, +1, +1, +1, -1, -1, +1, +1, +1, +1, +1, -1, -1,    \n",
        "    -1, -1, +1, -1, -1, -1, -1, +1, -1, -1, -1, +1, -1, -1, +1, -1, -1, -1, +1, +1, -1, -1, +1, +1, -1, +1, +1, +1, -1,    \n",
        "    -1, -1, +1, -1, -1, -1, -1, +1, -1, -1, -1, +1, -1, -1, +1, -1, -1, -1, -1, +1, -1, -1, +1, +1, -1, -1, +1, +1, +1,  \n",
        "])"
      ],
      "execution_count": 0,
      "outputs": []
    },
    {
      "cell_type": "code",
      "metadata": {
        "id": "7EA7L1DqDQrQ",
        "colab_type": "code",
        "colab": {}
      },
      "source": [
        "A = A.reshape(-1, 1)\n",
        "B = B.reshape(-1, 1)\n",
        "a = a.reshape(-1, 1)\n",
        "b = b.reshape(-1, 1)"
      ],
      "execution_count": 0,
      "outputs": []
    },
    {
      "cell_type": "code",
      "metadata": {
        "id": "0AcYRPwCDb4j",
        "colab_type": "code",
        "colab": {}
      },
      "source": [
        "def make_weight_matrix(inputs, outputs):\n",
        "  o = 0\n",
        "  for i in range(len(inputs)):\n",
        "    m = np.matmul(inputs[i], outputs[i].T)\n",
        "    o += m\n",
        "  return o\n"
      ],
      "execution_count": 0,
      "outputs": []
    },
    {
      "cell_type": "code",
      "metadata": {
        "id": "Ul9NcELoGhuo",
        "colab_type": "code",
        "colab": {}
      },
      "source": [
        "def make_predictions_output(input_pattern, weight, activation_function, shape):\n",
        "  return activation_function(np.matmul(input_pattern.T, weight).T, shape)"
      ],
      "execution_count": 0,
      "outputs": []
    },
    {
      "cell_type": "code",
      "metadata": {
        "id": "1jGi8gUdJ1Mw",
        "colab_type": "code",
        "colab": {}
      },
      "source": [
        "def DH_activation(x , z):\n",
        "    y = 2*(x>=0) - 1\n",
        "    y[x == 0] = z[x==0]\n",
        "    return y"
      ],
      "execution_count": 0,
      "outputs": []
    },
    {
      "cell_type": "code",
      "metadata": {
        "id": "hAm5iVlmGmes",
        "colab_type": "code",
        "colab": {
          "base_uri": "https://localhost:8080/",
          "height": 157
        },
        "outputId": "eef2b3dd-7287-4ba1-ad88-374c48364738"
      },
      "source": [
        "weight = make_weight_matrix([A, B], [a, b])\n",
        "prediction = make_predictions_output(A, weight, DH_activation, np.zeros(a.shape))\n",
        "plt.imshow( prediction.reshape(8, -1), cmap='Greys')\n",
        "# plt.title('plane')"
      ],
      "execution_count": 73,
      "outputs": [
        {
          "output_type": "execute_result",
          "data": {
            "text/plain": [
              "<matplotlib.image.AxesImage at 0x7fcb34089e48>"
            ]
          },
          "metadata": {
            "tags": []
          },
          "execution_count": 73
        },
        {
          "output_type": "display_data",
          "data": {
            "image/png": "[encoded data removed]",
            "text/plain": [
              "<Figure size 432x288 with 1 Axes>"
            ]
          },
          "metadata": {
            "tags": [],
            "needs_background": "light"
          }
        }
      ]
    },
    {
      "cell_type": "code",
      "metadata": {
        "id": "VYcRfD6tGwI1",
        "colab_type": "code",
        "colab": {}
      },
      "source": [
        "def make_predictions_input(input_pattern, weight, activation_function, shape):\n",
        "  return activation_function(np.matmul(input_pattern.T, weight.T).T, shape)"
      ],
      "execution_count": 0,
      "outputs": []
    },
    {
      "cell_type": "code",
      "metadata": {
        "id": "67oNBorBM9_y",
        "colab_type": "code",
        "colab": {
          "base_uri": "https://localhost:8080/",
          "height": 282
        },
        "outputId": "fc65dc6c-341a-447c-b2db-e7a004a5160e"
      },
      "source": [
        "prediction = make_predictions_input(a, weight, DH_activation, np.zeros(A.shape))\n",
        "plt.imshow(prediction.reshape(-1, 16), cmap='Greys')\n",
        "# plt.title('plane')"
      ],
      "execution_count": 75,
      "outputs": [
        {
          "output_type": "execute_result",
          "data": {
            "text/plain": [
              "<matplotlib.image.AxesImage at 0x7fcb33fddef0>"
            ]
          },
          "metadata": {
            "tags": []
          },
          "execution_count": 75
        },
        {
          "output_type": "display_data",
          "data": {
            "image/png": "[encoded data removed]",
            "text/plain": [
              "<Figure size 432x288 with 1 Axes>"
            ]
          },
          "metadata": {
            "tags": [],
            "needs_background": "light"
          }
        }
      ]
    },
    {
      "cell_type": "code",
      "metadata": {
        "id": "jyPQrKu5NtRl",
        "colab_type": "code",
        "colab": {
          "base_uri": "https://localhost:8080/",
          "height": 157
        },
        "outputId": "ebd17e63-2afd-4636-ef16-f491f0f3968d"
      },
      "source": [
        "prediction = make_predictions_output(B, weight, DH_activation, np.zeros(b.shape))\n",
        "plt.imshow(prediction.reshape(8, -1), cmap='Greys')\n",
        "# plt.title('tank')"
      ],
      "execution_count": 76,
      "outputs": [
        {
          "output_type": "execute_result",
          "data": {
            "text/plain": [
              "<matplotlib.image.AxesImage at 0x7fcb33fb9f98>"
            ]
          },
          "metadata": {
            "tags": []
          },
          "execution_count": 76
        },
        {
          "output_type": "display_data",
          "data": {
            "image/png": "[encoded data removed]",
            "text/plain": [
              "<Figure size 432x288 with 1 Axes>"
            ]
          },
          "metadata": {
            "tags": [],
            "needs_background": "light"
          }
        }
      ]
    },
    {
      "cell_type": "code",
      "metadata": {
        "id": "cotS4R4lOkaY",
        "colab_type": "code",
        "colab": {
          "base_uri": "https://localhost:8080/",
          "height": 282
        },
        "outputId": "dd18b2fa-bec6-4e6c-a919-7dc3caec09c2"
      },
      "source": [
        "prediction = make_predictions_input(b, weight, DH_activation, np.zeros(B.shape))\n",
        "plt.imshow(prediction.reshape(-1, 16), cmap='Greys')\n",
        "# plt.title('tank')"
      ],
      "execution_count": 78,
      "outputs": [
        {
          "output_type": "execute_result",
          "data": {
            "text/plain": [
              "<matplotlib.image.AxesImage at 0x7fcb33eeaef0>"
            ]
          },
          "metadata": {
            "tags": []
          },
          "execution_count": 78
        },
        {
          "output_type": "display_data",
          "data": {
            "image/png": "[encoded data removed]",
            "text/plain": [
              "<Figure size 432x288 with 1 Axes>"
            ]
          },
          "metadata": {
            "tags": [],
            "needs_background": "light"
          }
        }
      ]
    },
    {
      "cell_type": "markdown",
      "metadata": {
        "id": "bfc3l8caRGYi",
        "colab_type": "text"
      },
      "source": [
        "## Part2"
      ]
    },
    {
      "cell_type": "code",
      "metadata": {
        "id": "NNLwHM_pOpYG",
        "colab_type": "code",
        "colab": {}
      },
      "source": [
        "# def make_noise(array, n):\n",
        "#   copy_array = copy.deepcopy(array)\n",
        "#   sample_size = int(n * len(copy_array))\n",
        "#   sample = np.random.choice(len(copy_array), sample_size, replace=False)\n",
        "#   copy_array[sample] = -1 * copy_array[sample]\n",
        "#   return copy_array"
      ],
      "execution_count": 0,
      "outputs": []
    },
    {
      "cell_type": "code",
      "metadata": {
        "id": "A8gT9VWiRNcm",
        "colab_type": "code",
        "colab": {}
      },
      "source": [
        "# def make_missing(array, n):\n",
        "#   copy_array = copy.deepcopy(array)\n",
        "#   sample_size = int(n * len(copy_array))\n",
        "#   sample = np.random.choice(len(copy_array), sample_size, replace=False)\n",
        "#   copy_array[sample] = 0\n",
        "#   return copy_array"
      ],
      "execution_count": 0,
      "outputs": []
    },
    {
      "cell_type": "code",
      "metadata": {
        "id": "Vof1ox5wRSrp",
        "colab_type": "code",
        "colab": {}
      },
      "source": [
        "def make_distraction(array, n):\n",
        "  copy_array = copy.deepcopy(array)\n",
        "  sample_size = int(n * len(copy_array))\n",
        " \n",
        "  # make noise\n",
        "  sample = np.random.choice(len(copy_array), sample_size, replace=False)\n",
        "  copy_array[sample] = -1 * copy_array[sample]\n",
        "\n",
        "   # make missing\n",
        "  sample = np.random.choice(len(copy_array), sample_size, replace=False)\n",
        "  copy_array[sample] = 0\n",
        "  return copy_array"
      ],
      "execution_count": 0,
      "outputs": []
    },
    {
      "cell_type": "code",
      "metadata": {
        "id": "2r02u9pvS5AH",
        "colab_type": "code",
        "colab": {
          "base_uri": "https://localhost:8080/",
          "height": 405
        },
        "outputId": "c27f7286-6bed-4735-c904-98d68799454f"
      },
      "source": [
        "distracted_A = make_distraction(A, 0.3)\n",
        "distracted_a = make_distraction(a, 0.3)\n",
        "plt.imshow(distracted_A.reshape(-1, 16), cmap='Greys')\n",
        "plt.show()\n",
        "plt.imshow(distracted_a.reshape(8, -1), cmap='Greys')"
      ],
      "execution_count": 83,
      "outputs": [
        {
          "output_type": "display_data",
          "data": {
            "image/png": "[encoded data removed]",
            "text/plain": [
              "<Figure size 432x288 with 1 Axes>"
            ]
          },
          "metadata": {
            "tags": [],
            "needs_background": "light"
          }
        },
        {
          "output_type": "execute_result",
          "data": {
            "text/plain": [
              "<matplotlib.image.AxesImage at 0x7fcb347dcc50>"
            ]
          },
          "metadata": {
            "tags": []
          },
          "execution_count": 83
        },
        {
          "output_type": "display_data",
          "data": {
            "image/png": "[encoded data removed]",
            "text/plain": [
              "<Figure size 432x288 with 1 Axes>"
            ]
          },
          "metadata": {
            "tags": [],
            "needs_background": "light"
          }
        }
      ]
    },
    {
      "cell_type": "code",
      "metadata": {
        "id": "oZWrSNhAT9VC",
        "colab_type": "code",
        "colab": {
          "base_uri": "https://localhost:8080/",
          "height": 405
        },
        "outputId": "ae0fc33c-df54-4503-e07b-273ca78d180b"
      },
      "source": [
        "distracted_B = make_distraction(B, 0.3)\n",
        "distracted_b = make_distraction(b, 0.3)\n",
        "plt.imshow(distracted_B.reshape(-1, 16), cmap='Greys')\n",
        "plt.show()\n",
        "plt.imshow(distracted_b.reshape(8, -1), cmap='Greys')"
      ],
      "execution_count": 84,
      "outputs": [
        {
          "output_type": "display_data",
          "data": {
            "image/png": "[encoded data removed]",
            "text/plain": [
              "<Figure size 432x288 with 1 Axes>"
            ]
          },
          "metadata": {
            "tags": [],
            "needs_background": "light"
          }
        },
        {
          "output_type": "execute_result",
          "data": {
            "text/plain": [
              "<matplotlib.image.AxesImage at 0x7fcb33dc57f0>"
            ]
          },
          "metadata": {
            "tags": []
          },
          "execution_count": 84
        },
        {
          "output_type": "display_data",
          "data": {
            "image/png": "[encoded data removed]",
            "text/plain": [
              "<Figure size 432x288 with 1 Axes>"
            ]
          },
          "metadata": {
            "tags": [],
            "needs_background": "light"
          }
        }
      ]
    },
    {
      "cell_type": "code",
      "metadata": {
        "id": "lur40rv2UlXd",
        "colab_type": "code",
        "colab": {
          "base_uri": "https://localhost:8080/",
          "height": 157
        },
        "outputId": "b5cd80a5-5c75-454b-b7f9-2419f41bd9b7"
      },
      "source": [
        "prediction = make_predictions_output(distracted_A, weight, DH_activation, np.zeros(distracted_a.shape))\n",
        "plt.imshow(prediction.reshape(8, -1), cmap='Greys')\n",
        "# plt.title('plane')"
      ],
      "execution_count": 85,
      "outputs": [
        {
          "output_type": "execute_result",
          "data": {
            "text/plain": [
              "<matplotlib.image.AxesImage at 0x7fcb33d22748>"
            ]
          },
          "metadata": {
            "tags": []
          },
          "execution_count": 85
        },
        {
          "output_type": "display_data",
          "data": {
            "image/png": "[encoded data removed]",
            "text/plain": [
              "<Figure size 432x288 with 1 Axes>"
            ]
          },
          "metadata": {
            "tags": [],
            "needs_background": "light"
          }
        }
      ]
    },
    {
      "cell_type": "code",
      "metadata": {
        "id": "IOqiy0YfU6ao",
        "colab_type": "code",
        "colab": {
          "base_uri": "https://localhost:8080/",
          "height": 282
        },
        "outputId": "b18161a4-137c-4087-809f-1e4bc1c894ac"
      },
      "source": [
        "prediction = make_predictions_input(distracted_a, weight, DH_activation, np.zeros(distracted_A.shape))\n",
        "plt.imshow(prediction.reshape(-1, 16), cmap='Greys')\n",
        "# plt.title('plane')"
      ],
      "execution_count": 86,
      "outputs": [
        {
          "output_type": "execute_result",
          "data": {
            "text/plain": [
              "<matplotlib.image.AxesImage at 0x7fcb33cf7a58>"
            ]
          },
          "metadata": {
            "tags": []
          },
          "execution_count": 86
        },
        {
          "output_type": "display_data",
          "data": {
            "image/png": "[encoded data removed]",
            "text/plain": [
              "<Figure size 432x288 with 1 Axes>"
            ]
          },
          "metadata": {
            "tags": [],
            "needs_background": "light"
          }
        }
      ]
    },
    {
      "cell_type": "code",
      "metadata": {
        "id": "WDNiNbEbVB4E",
        "colab_type": "code",
        "colab": {
          "base_uri": "https://localhost:8080/",
          "height": 157
        },
        "outputId": "a079a4d9-a2b2-41fd-895b-ee424f43f739"
      },
      "source": [
        "prediction = make_predictions_output(distracted_B, weight, DH_activation, np.zeros(distracted_b.shape))\n",
        "plt.imshow(prediction.reshape(8, -1), cmap='Greys')\n",
        "# plt.title('tank')"
      ],
      "execution_count": 87,
      "outputs": [
        {
          "output_type": "execute_result",
          "data": {
            "text/plain": [
              "<matplotlib.image.AxesImage at 0x7fcb33c610f0>"
            ]
          },
          "metadata": {
            "tags": []
          },
          "execution_count": 87
        },
        {
          "output_type": "display_data",
          "data": {
            "image/png": "[encoded data removed]",
            "text/plain": [
              "<Figure size 432x288 with 1 Axes>"
            ]
          },
          "metadata": {
            "tags": [],
            "needs_background": "light"
          }
        }
      ]
    },
    {
      "cell_type": "code",
      "metadata": {
        "id": "Lp_gW3ooVIDO",
        "colab_type": "code",
        "colab": {
          "base_uri": "https://localhost:8080/",
          "height": 282
        },
        "outputId": "91b25af4-7293-46ca-e90d-3db2151149c5"
      },
      "source": [
        "prediction = make_predictions_input(distracted_b, weight, DH_activation, np.zeros(distracted_B.shape))\n",
        "plt.imshow(prediction.reshape(-1, 16), cmap='Greys')\n",
        "# plt.title('tank')"
      ],
      "execution_count": 88,
      "outputs": [
        {
          "output_type": "execute_result",
          "data": {
            "text/plain": [
              "<matplotlib.image.AxesImage at 0x7fcb33c36400>"
            ]
          },
          "metadata": {
            "tags": []
          },
          "execution_count": 88
        },
        {
          "output_type": "display_data",
          "data": {
            "image/png": "[encoded data removed]",
            "text/plain": [
              "<Figure size 432x288 with 1 Axes>"
            ]
          },
          "metadata": {
            "tags": [],
            "needs_background": "light"
          }
        }
      ]
    },
    {
      "cell_type": "code",
      "metadata": {
        "id": "SU1OUbmvVP32",
        "colab_type": "code",
        "colab": {}
      },
      "source": [
        ""
      ],
      "execution_count": 0,
      "outputs": []
    }
  ]
}