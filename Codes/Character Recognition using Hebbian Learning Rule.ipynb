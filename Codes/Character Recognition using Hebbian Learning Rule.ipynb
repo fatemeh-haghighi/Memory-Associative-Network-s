{
  "nbformat": 4,
  "nbformat_minor": 0,
  "metadata": {
    "colab": {
      "name": "Q1-HW3",
      "provenance": []
    },
    "kernelspec": {
      "name": "python3",
      "display_name": "Python 3"
    }
  },
  "cells": [
    {
      "cell_type": "code",
      "metadata": {
        "id": "2rkAjFR7zmd0",
        "colab_type": "code",
        "colab": {}
      },
      "source": [
        "import numpy as np\n",
        "import matplotlib.pyplot as plt\n",
        "import copy"
      ],
      "execution_count": 0,
      "outputs": []
    },
    {
      "cell_type": "markdown",
      "metadata": {
        "id": "30y39wG40BZx",
        "colab_type": "text"
      },
      "source": [
        "## Part1"
      ]
    },
    {
      "cell_type": "code",
      "metadata": {
        "id": "5jKQ82cX0Cj9",
        "colab_type": "code",
        "colab": {}
      },
      "source": [
        "A = np.array([\n",
        "    -1, -1, -1, +1, -1, -1, -1,\n",
        "    -1, -1, -1, +1, -1, -1, -1,\n",
        "    -1, -1, +1, -1, +1, -1, -1,\n",
        "    -1, -1, +1, -1, +1, -1, -1,\n",
        "    -1, -1, +1, +1, +1, -1, -1,\n",
        "    -1, +1, -1, -1, -1, +1, -1,\n",
        "    -1, +1, -1, -1, -1, +1, -1,\n",
        "    +1, -1, -1, -1, -1, -1, +1,\n",
        "    +1, -1, -1, -1, -1, -1, +1\n",
        "])\n",
        "\n",
        "B = np.array([\n",
        "    +1, +1, +1, +1, +1, -1, -1,\n",
        "    +1, -1, -1, -1, -1, +1, -1,\n",
        "    +1, -1, -1, -1, -1, -1, +1,\n",
        "    +1, -1, -1, -1, -1, +1, -1,\n",
        "    +1, +1, +1, +1, +1, -1, -1,\n",
        "    +1, -1, -1, -1, -1, +1, -1,\n",
        "    +1, -1, -1, -1, -1, -1, +1,\n",
        "    +1, -1, -1, -1, -1, +1, -1,\n",
        "    +1, +1, +1, +1, +1, -1, -1\n",
        "])\n",
        "\n",
        "C = np.array([\n",
        "    -1, -1, +1, +1, +1, -1, -1,\n",
        "    -1, +1, -1, -1, -1, +1, -1,\n",
        "    +1, -1, -1, -1, -1, -1, +1,\n",
        "    +1, -1, -1, -1, -1, -1, -1,\n",
        "    +1, -1, -1, -1, -1, -1, -1,\n",
        "    +1, -1, -1, -1, -1, -1, -1,\n",
        "    +1, -1, -1, -1, -1, -1, +1,\n",
        "    -1, +1, -1, -1, -1, +1, -1,\n",
        "    -1, -1, +1, +1, +1, -1, -1\n",
        "])"
      ],
      "execution_count": 0,
      "outputs": []
    },
    {
      "cell_type": "code",
      "metadata": {
        "id": "TcZRo3Wp0FXh",
        "colab_type": "code",
        "colab": {}
      },
      "source": [
        "a = np.array([\n",
        "    -1, +1, -1,\n",
        "    +1, -1, +1, \n",
        "    +1, +1, +1,\n",
        "    +1, -1, +1,\n",
        "    +1, -1, +1\n",
        "])\n",
        "\n",
        "b = np.array([\n",
        "    +1, +1, -1,\n",
        "    +1, -1, +1, \n",
        "    +1, +1, -1,\n",
        "    +1, -1, +1,\n",
        "    +1, +1, -1\n",
        "])\n",
        "\n",
        "c = np.array([\n",
        "    +1, +1, +1,\n",
        "    +1, -1, -1, \n",
        "    +1, -1, -1,\n",
        "    +1, -1, -1,\n",
        "    +1, +1, +1\n",
        "])"
      ],
      "execution_count": 0,
      "outputs": []
    },
    {
      "cell_type": "code",
      "metadata": {
        "id": "Cu0SeJTB0IDj",
        "colab_type": "code",
        "colab": {}
      },
      "source": [
        "def print_char(matrix, cols, rows):\n",
        "  shape = []\n",
        "  for i in range(rows):\n",
        "    l = []\n",
        "    for j in range(cols):\n",
        "      if matrix[i*3 + j] == -1:\n",
        "        l.append(\". \")\n",
        "      elif matrix[i*3 + j] == 1:\n",
        "        l.append(\"# \")\n",
        "    # shape.append(l)\n",
        "    print(l)\n",
        "  # print(shape)\n"
      ],
      "execution_count": 0,
      "outputs": []
    },
    {
      "cell_type": "code",
      "metadata": {
        "id": "LE8-YniF0Kfu",
        "colab_type": "code",
        "colab": {}
      },
      "source": [
        "def activation_function(x):\n",
        "  return 2*(x>=0) - 1"
      ],
      "execution_count": 0,
      "outputs": []
    },
    {
      "cell_type": "code",
      "metadata": {
        "id": "ju_sXOYG0NH1",
        "colab_type": "code",
        "colab": {}
      },
      "source": [
        "A = A.reshape(-1, 1)\n",
        "a = a.reshape(-1, 1)\n",
        "B = B.reshape(-1, 1)\n",
        "b = b.reshape(-1, 1)\n",
        "C = C.reshape(-1, 1)\n",
        "c = c.reshape(-1, 1)"
      ],
      "execution_count": 0,
      "outputs": []
    },
    {
      "cell_type": "code",
      "metadata": {
        "id": "M2-dtKos0PaQ",
        "colab_type": "code",
        "colab": {}
      },
      "source": [
        "def make_weight_matrix(inputs, outputs):\n",
        "  o = 0\n",
        "  for i in range(len(inputs)):\n",
        "    m = np.matmul(inputs[i], outputs[i].T)\n",
        "    o += m\n",
        "  return o\n"
      ],
      "execution_count": 0,
      "outputs": []
    },
    {
      "cell_type": "code",
      "metadata": {
        "id": "VDQjP0PN0Re5",
        "colab_type": "code",
        "colab": {}
      },
      "source": [
        "weight = make_weight_matrix([A, B, C], [a, b, c])\n"
      ],
      "execution_count": 0,
      "outputs": []
    },
    {
      "cell_type": "code",
      "metadata": {
        "id": "wYB8icdY0TXG",
        "colab_type": "code",
        "colab": {}
      },
      "source": [
        "def make_predictions(input_pattern, weight, activation_function):\n",
        "  return activation_function(np.matmul(input_pattern.T, weight)).T\n",
        "  "
      ],
      "execution_count": 0,
      "outputs": []
    },
    {
      "cell_type": "code",
      "metadata": {
        "id": "EObN8jBe0VdK",
        "colab_type": "code",
        "outputId": "bed5528f-5903-4b5a-ee1a-635d5cdf17f3",
        "colab": {
          "base_uri": "https://localhost:8080/",
          "height": 298
        }
      },
      "source": [
        "plt.imshow(a.reshape(5, 3), cmap='Greys')\n",
        "plt.title(\"desire output for input = A\")"
      ],
      "execution_count": 11,
      "outputs": [
        {
          "output_type": "execute_result",
          "data": {
            "text/plain": [
              "Text(0.5, 1.0, 'desire output for input = A')"
            ]
          },
          "metadata": {
            "tags": []
          },
          "execution_count": 11
        },
        {
          "output_type": "display_data",
          "data": {
            "image/png": "[encoded data removed]",
            "text/plain": [
              "<Figure size 432x288 with 1 Axes>"
            ]
          },
          "metadata": {
            "tags": [],
            "needs_background": "light"
          }
        }
      ]
    },
    {
      "cell_type": "code",
      "metadata": {
        "id": "XRwNlpBk0Xej",
        "colab_type": "code",
        "outputId": "9d6fc475-96e5-4ba2-c239-034705a73899",
        "colab": {
          "base_uri": "https://localhost:8080/",
          "height": 298
        }
      },
      "source": [
        "prediction_A = make_predictions(A, weight, activation_function)\n",
        "plt.imshow(prediction_A.reshape(5, 3), cmap='Greys')\n",
        "plt.title(\"output of network for input = A\")"
      ],
      "execution_count": 12,
      "outputs": [
        {
          "output_type": "execute_result",
          "data": {
            "text/plain": [
              "Text(0.5, 1.0, 'output of network for input = A')"
            ]
          },
          "metadata": {
            "tags": []
          },
          "execution_count": 12
        },
        {
          "output_type": "display_data",
          "data": {
            "image/png": "[encoded data removed]",
            "text/plain": [
              "<Figure size 432x288 with 1 Axes>"
            ]
          },
          "metadata": {
            "tags": [],
            "needs_background": "light"
          }
        }
      ]
    },
    {
      "cell_type": "code",
      "metadata": {
        "id": "pu07aDHF0aNi",
        "colab_type": "code",
        "outputId": "7b073090-e5a6-473f-991a-e5444ed8f9ed",
        "colab": {
          "base_uri": "https://localhost:8080/",
          "height": 298
        }
      },
      "source": [
        "plt.imshow(b.reshape(5, 3), cmap='Greys')\n",
        "plt.title(\"desire output for input = B\")"
      ],
      "execution_count": 13,
      "outputs": [
        {
          "output_type": "execute_result",
          "data": {
            "text/plain": [
              "Text(0.5, 1.0, 'desire output for input = B')"
            ]
          },
          "metadata": {
            "tags": []
          },
          "execution_count": 13
        },
        {
          "output_type": "display_data",
          "data": {
            "image/png": "[encoded data removed]",
            "text/plain": [
              "<Figure size 432x288 with 1 Axes>"
            ]
          },
          "metadata": {
            "tags": [],
            "needs_background": "light"
          }
        }
      ]
    },
    {
      "cell_type": "code",
      "metadata": {
        "id": "d2PeaYnb0cYm",
        "colab_type": "code",
        "outputId": "b01c39a5-a251-418d-9fa9-fd7940ff4842",
        "colab": {
          "base_uri": "https://localhost:8080/",
          "height": 298
        }
      },
      "source": [
        "prediction_B = make_predictions(B, weight, activation_function)\n",
        "plt.imshow(prediction_B.reshape(5, 3), cmap='Greys')\n",
        "plt.title(\"output of network for input = B \")"
      ],
      "execution_count": 14,
      "outputs": [
        {
          "output_type": "execute_result",
          "data": {
            "text/plain": [
              "Text(0.5, 1.0, 'output of network for input = B ')"
            ]
          },
          "metadata": {
            "tags": []
          },
          "execution_count": 14
        },
        {
          "output_type": "display_data",
          "data": {
            "image/png": "[encoded data removed]",
            "text/plain": [
              "<Figure size 432x288 with 1 Axes>"
            ]
          },
          "metadata": {
            "tags": [],
            "needs_background": "light"
          }
        }
      ]
    },
    {
      "cell_type": "code",
      "metadata": {
        "id": "Tf2DLwgv0hbj",
        "colab_type": "code",
        "outputId": "7cbbdb85-3b74-4749-e8f2-52c3624d8c0c",
        "colab": {
          "base_uri": "https://localhost:8080/",
          "height": 298
        }
      },
      "source": [
        "plt.imshow(c.reshape(5, 3), cmap='Greys')\n",
        "plt.title(\"desire output for input = C\")"
      ],
      "execution_count": 15,
      "outputs": [
        {
          "output_type": "execute_result",
          "data": {
            "text/plain": [
              "Text(0.5, 1.0, 'desire output for input = C')"
            ]
          },
          "metadata": {
            "tags": []
          },
          "execution_count": 15
        },
        {
          "output_type": "display_data",
          "data": {
            "image/png": "[encoded data removed]",
            "text/plain": [
              "<Figure size 432x288 with 1 Axes>"
            ]
          },
          "metadata": {
            "tags": [],
            "needs_background": "light"
          }
        }
      ]
    },
    {
      "cell_type": "code",
      "metadata": {
        "id": "to7CT8ZV0jp-",
        "colab_type": "code",
        "outputId": "4202ca8d-2bf2-463f-84d4-5d93b71641db",
        "colab": {
          "base_uri": "https://localhost:8080/",
          "height": 298
        }
      },
      "source": [
        "prediction_C = make_predictions(C, weight, activation_function)\n",
        "plt.imshow(prediction_C.reshape(5, 3), cmap='Greys')\n",
        "plt.title(\"output of network for input = C \")"
      ],
      "execution_count": 16,
      "outputs": [
        {
          "output_type": "execute_result",
          "data": {
            "text/plain": [
              "Text(0.5, 1.0, 'output of network for input = C ')"
            ]
          },
          "metadata": {
            "tags": []
          },
          "execution_count": 16
        },
        {
          "output_type": "display_data",
          "data": {
            "image/png": "[encoded data removed]",
            "text/plain": [
              "<Figure size 432x288 with 1 Axes>"
            ]
          },
          "metadata": {
            "tags": [],
            "needs_background": "light"
          }
        }
      ]
    },
    {
      "cell_type": "markdown",
      "metadata": {
        "id": "iwnp0K7H0mfh",
        "colab_type": "text"
      },
      "source": [
        "## Part2"
      ]
    },
    {
      "cell_type": "code",
      "metadata": {
        "id": "E2EJ-uvg0nXh",
        "colab_type": "code",
        "colab": {}
      },
      "source": [
        "def make_noise(array, n):\n",
        "  copy_array = copy.deepcopy(array)\n",
        "  sample_size = int(n * len(copy_array))\n",
        "  sample = np.random.choice(len(copy_array), sample_size, replace=False)\n",
        "  copy_array[sample] = -1 * copy_array[sample]\n",
        "  return copy_array"
      ],
      "execution_count": 0,
      "outputs": []
    },
    {
      "cell_type": "code",
      "metadata": {
        "id": "lI_NCtbM0pR8",
        "colab_type": "code",
        "colab": {}
      },
      "source": [
        "def check_disturbed_inputs(n, inputs, desire_outputs, weight, activation_function):\n",
        "  correct = 0\n",
        "  for i in range(1000):\n",
        "    outputs = []\n",
        "    for j in range(len(inputs)):\n",
        "      s = make_noise(inputs[j], n)\n",
        "      prediction =  make_predictions(s, weight, activation_function)\n",
        "      outputs.append(prediction)\n",
        "    validation = 1\n",
        "    for j in range(len(outputs)):\n",
        "      if sum(outputs[j] == desire_outputs[j]) != len(desire_outputs[j]):\n",
        "        validation = -1\n",
        "    if validation == 1:\n",
        "      correct += 1\n",
        "  print(\"accuracy of network is: \", correct / 1000)"
      ],
      "execution_count": 0,
      "outputs": []
    },
    {
      "cell_type": "code",
      "metadata": {
        "id": "BifnLk5m0r_x",
        "colab_type": "code",
        "outputId": "f6f87b2f-a886-45b2-c729-123d28c36f66",
        "colab": {
          "base_uri": "https://localhost:8080/",
          "height": 34
        }
      },
      "source": [
        "check_disturbed_inputs(0.2, [A, B, C], [a, b, c], weight, activation_function)\n"
      ],
      "execution_count": 19,
      "outputs": [
        {
          "output_type": "stream",
          "text": [
            "accuracy of network is:  0.928\n"
          ],
          "name": "stdout"
        }
      ]
    },
    {
      "cell_type": "code",
      "metadata": {
        "id": "r0_DJT9k0uWJ",
        "colab_type": "code",
        "outputId": "7a70af43-36c3-458d-8bdb-d32026796255",
        "colab": {
          "base_uri": "https://localhost:8080/",
          "height": 34
        }
      },
      "source": [
        "check_disturbed_inputs(0.2, [A, B, C], [a, b, c], weight, activation_function)\n"
      ],
      "execution_count": 20,
      "outputs": [
        {
          "output_type": "stream",
          "text": [
            "accuracy of network is:  0.919\n"
          ],
          "name": "stdout"
        }
      ]
    },
    {
      "cell_type": "markdown",
      "metadata": {
        "id": "uGzvhcX70yOE",
        "colab_type": "text"
      },
      "source": [
        "## Part3"
      ]
    },
    {
      "cell_type": "code",
      "metadata": {
        "id": "oiQWbZdC0y5p",
        "colab_type": "code",
        "colab": {}
      },
      "source": [
        "def make_missing(array, n):\n",
        "  copy_array = copy.deepcopy(array)\n",
        "  sample_size = int(n * len(copy_array))\n",
        "  sample = np.random.choice(len(copy_array), sample_size, replace=False)\n",
        "  copy_array[sample] = 0\n",
        "  return copy_array"
      ],
      "execution_count": 0,
      "outputs": []
    },
    {
      "cell_type": "code",
      "metadata": {
        "id": "Ia1OXdY40029",
        "colab_type": "code",
        "colab": {}
      },
      "source": [
        "def check_missed_inputs(n, inputs, desire_outputs, weight, activation_function):\n",
        "  correct = 0\n",
        "  for i in range(1000):\n",
        "    outputs = []\n",
        "    for j in range(len(inputs)):\n",
        "      s = make_missing(inputs[j], n)\n",
        "      prediction =  make_predictions(s, weight, activation_function)\n",
        "      outputs.append(prediction)\n",
        "    validation = 1\n",
        "    for j in range(len(outputs)):\n",
        "      if sum(outputs[j] == desire_outputs[j]) != len(desire_outputs[j]):\n",
        "        validation = -1\n",
        "    if validation == 1:\n",
        "      correct += 1\n",
        "  print(\"accuracy of network is: \", correct / 1000)"
      ],
      "execution_count": 0,
      "outputs": []
    },
    {
      "cell_type": "code",
      "metadata": {
        "id": "TFkTD7v7029r",
        "colab_type": "code",
        "outputId": "e8614b61-12d7-4b5a-d930-1c7800660f34",
        "colab": {
          "base_uri": "https://localhost:8080/",
          "height": 34
        }
      },
      "source": [
        "check_missed_inputs(0.2, [A, B, C], [a, b, c], weight, activation_function)\n"
      ],
      "execution_count": 23,
      "outputs": [
        {
          "output_type": "stream",
          "text": [
            "accuracy of network is:  1.0\n"
          ],
          "name": "stdout"
        }
      ]
    },
    {
      "cell_type": "code",
      "metadata": {
        "id": "a8DTllJn047G",
        "colab_type": "code",
        "outputId": "8ef46278-6ccb-482b-820b-fc8784b215e7",
        "colab": {
          "base_uri": "https://localhost:8080/",
          "height": 34
        }
      },
      "source": [
        "check_missed_inputs(0.4, [A, B, C], [a, b, c], weight, activation_function)\n"
      ],
      "execution_count": 24,
      "outputs": [
        {
          "output_type": "stream",
          "text": [
            "accuracy of network is:  0.999\n"
          ],
          "name": "stdout"
        }
      ]
    },
    {
      "cell_type": "markdown",
      "metadata": {
        "id": "_a44BZOM08om",
        "colab_type": "text"
      },
      "source": [
        "## Part4"
      ]
    },
    {
      "cell_type": "code",
      "metadata": {
        "id": "EwBE-2Ps09x7",
        "colab_type": "code",
        "colab": {}
      },
      "source": [
        "def check_noisy_missed_inputs(inputs, desire_outputs, activation_function, weight):\n",
        "  noisy_accuracy = []\n",
        "  missed_accuracy = []\n",
        "  epochs = np.arange(0, 1 ,0.01)\n",
        "  for e in epochs:\n",
        "      noisy_correct = 0\n",
        "      missed_correct = 0\n",
        "      for i in range(1000):\n",
        "          valid = 1\n",
        "          for j in range(len(inputs)):\n",
        "            noisy_data = make_noise(inputs[j], e)\n",
        "            prediction =  make_predictions(noisy_data, weight, activation_function)\n",
        "            if sum(prediction == desire_outputs[j]) != len(desire_outputs[j]):\n",
        "              valid = -1\n",
        "          if valid == 1:\n",
        "            noisy_correct +=1\n",
        "         \n",
        "          valid2 = 1\n",
        "          for j in range(len(inputs)):\n",
        "            missed_data = make_missing(inputs[j], e)\n",
        "            prediction = make_predictions(missed_data, weight, activation_function)\n",
        "            if sum(prediction == desire_outputs[j]) != len(desire_outputs[j]):\n",
        "              valid2 = -1\n",
        "          if valid2 == 1:\n",
        "            missed_correct +=1\n",
        "         \n",
        "      noisy_accuracy += [noisy_correct/1000]\n",
        "      missed_accuracy += [missed_correct/1000]\n",
        "  return noisy_accuracy, missed_accuracy, epochs"
      ],
      "execution_count": 0,
      "outputs": []
    },
    {
      "cell_type": "code",
      "metadata": {
        "id": "Lz53EFBi1ATp",
        "colab_type": "code",
        "outputId": "159b78b9-4180-43e8-ee7a-45ea443a6389",
        "colab": {
          "base_uri": "https://localhost:8080/",
          "height": 312
        }
      },
      "source": [
        "noisy_accuracy, missed_accuracy, epochs = check_noisy_missed_inputs([A, B, C], [a, b, c], activation_function, weight)\n",
        "plt.plot(epochs, noisy_accuracy, label='noise data')\n",
        "plt.plot(epochs, missed_accuracy, label='missing data')\n",
        "plt.title('robustness')\n",
        "plt.xlabel('percentages')\n",
        "plt.ylabel('accuracy')\n",
        "plt.legend()"
      ],
      "execution_count": 26,
      "outputs": [
        {
          "output_type": "execute_result",
          "data": {
            "text/plain": [
              "<matplotlib.legend.Legend at 0x7fed2d5bd5c0>"
            ]
          },
          "metadata": {
            "tags": []
          },
          "execution_count": 26
        },
        {
          "output_type": "display_data",
          "data": {
            "image/png": "[encoded data removed]",
            "text/plain": [
              "<Figure size 432x288 with 1 Axes>"
            ]
          },
          "metadata": {
            "tags": [],
            "needs_background": "light"
          }
        }
      ]
    },
    {
      "cell_type": "markdown",
      "metadata": {
        "id": "9BKfIx2M1PLB",
        "colab_type": "text"
      },
      "source": [
        "## Part5"
      ]
    },
    {
      "cell_type": "code",
      "metadata": {
        "id": "4I8ni2Wo1QJt",
        "colab_type": "code",
        "colab": {}
      },
      "source": [
        "def Max_robustness(inputs, desire_outputs, weight, activation_function):\n",
        "  epochs = np.arange(0.1, 0.2 ,0.001)\n",
        "  n = 10000\n",
        "  noisy_accuracy = []\n",
        "\n",
        "  for e in epochs:\n",
        "      noisy_correct = 0\n",
        "      for i in range(10000):\n",
        "        valid = 1\n",
        "        for j in range(len(inputs)):\n",
        "            noisy_data = make_noise(inputs[j], e)\n",
        "            prediction =  make_predictions(noisy_data, weight, activation_function)\n",
        "            if sum(prediction == desire_outputs[j]) != len(desire_outputs[j]):\n",
        "              valid = -1\n",
        "        if valid == 1:\n",
        "          noisy_correct +=1\n",
        "      noisy_accuracy += [noisy_correct/10000]\n",
        "  return noisy_accuracy, epochs"
      ],
      "execution_count": 0,
      "outputs": []
    },
    {
      "cell_type": "code",
      "metadata": {
        "id": "jibzFell1SPJ",
        "colab_type": "code",
        "colab": {}
      },
      "source": [
        "noisy_accuracy, epochs = Max_robustness([A, B, C], [a, b, c], weight, activation_function)\n"
      ],
      "execution_count": 0,
      "outputs": []
    },
    {
      "cell_type": "code",
      "metadata": {
        "id": "8DfdrSE-1T_G",
        "colab_type": "code",
        "outputId": "f20d2d44-9880-4da7-9330-cf88ad437a72",
        "colab": {
          "base_uri": "https://localhost:8080/",
          "height": 312
        }
      },
      "source": [
        "plt.plot(epochs, noisy_accuracy, label='noise')\n",
        "plt.title('robustness')\n",
        "plt.xlabel('percentages')\n",
        "plt.ylabel('accuracy')\n",
        "plt.legend()"
      ],
      "execution_count": 29,
      "outputs": [
        {
          "output_type": "execute_result",
          "data": {
            "text/plain": [
              "<matplotlib.legend.Legend at 0x7fed2d7c2f28>"
            ]
          },
          "metadata": {
            "tags": []
          },
          "execution_count": 29
        },
        {
          "output_type": "display_data",
          "data": {
            "image/png": "[encoded data removed]",
            "text/plain": [
              "<Figure size 432x288 with 1 Axes>"
            ]
          },
          "metadata": {
            "tags": [],
            "needs_background": "light"
          }
        }
      ]
    },
    {
      "cell_type": "code",
      "metadata": {
        "id": "f5oEyOSX1We6",
        "colab_type": "code",
        "colab": {}
      },
      "source": [
        ""
      ],
      "execution_count": 0,
      "outputs": []
    }
  ]
}