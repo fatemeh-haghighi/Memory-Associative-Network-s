{
  "nbformat": 4,
  "nbformat_minor": 0,
  "metadata": {
    "colab": {
      "name": "Q3-HW3",
      "provenance": []
    },
    "kernelspec": {
      "name": "python3",
      "display_name": "Python 3"
    }
  },
  "cells": [
    {
      "cell_type": "code",
      "metadata": {
        "id": "mtj-jtLC3pMm",
        "colab_type": "code",
        "colab": {}
      },
      "source": [
        "import numpy as np\n",
        "import copy\n",
        "import random"
      ],
      "execution_count": 0,
      "outputs": []
    },
    {
      "cell_type": "markdown",
      "metadata": {
        "id": "tnR7axdQEzl4",
        "colab_type": "text"
      },
      "source": [
        "## Part1"
      ]
    },
    {
      "cell_type": "code",
      "metadata": {
        "id": "FPmIUAyfE01P",
        "colab_type": "code",
        "colab": {}
      },
      "source": [
        "s = np.array([1, 1, 1, -1])\n"
      ],
      "execution_count": 0,
      "outputs": []
    },
    {
      "cell_type": "code",
      "metadata": {
        "id": "97XLLf7aE9LE",
        "colab_type": "code",
        "colab": {}
      },
      "source": [
        "def make_weight_matrix(inputs):\n",
        "  o = 0\n",
        "  for i in range(len(inputs)):\n",
        "    m = np.matmul(inputs[i], inputs[i].T) - np.eye(len(inputs[i]), dtype = int)\n",
        "    o += m\n",
        "  return o"
      ],
      "execution_count": 0,
      "outputs": []
    },
    {
      "cell_type": "code",
      "metadata": {
        "id": "YmNjV3WIE9kW",
        "colab_type": "code",
        "colab": {}
      },
      "source": [
        "def make_predictions(input_pattern, weight, activation_function):\n",
        "  return activation_function(np.matmul(input_pattern.T, weight)).T"
      ],
      "execution_count": 0,
      "outputs": []
    },
    {
      "cell_type": "code",
      "metadata": {
        "id": "xEngzKUkUqWV",
        "colab_type": "code",
        "colab": {}
      },
      "source": [
        "def activation_function(x):\n",
        "  return 2*(x>=0) - 1"
      ],
      "execution_count": 0,
      "outputs": []
    },
    {
      "cell_type": "code",
      "metadata": {
        "id": "3xl1_ZjaE_1T",
        "colab_type": "code",
        "colab": {}
      },
      "source": [
        "s = s.reshape(-1, 1)"
      ],
      "execution_count": 0,
      "outputs": []
    },
    {
      "cell_type": "code",
      "metadata": {
        "id": "vC4LaAR4HWY-",
        "colab_type": "code",
        "colab": {}
      },
      "source": [
        "weight = make_weight_matrix([s])\n",
        "prediction = make_predictions(s, weight, activation_function)"
      ],
      "execution_count": 0,
      "outputs": []
    },
    {
      "cell_type": "code",
      "metadata": {
        "id": "vhfFRTETUr9k",
        "colab_type": "code",
        "colab": {
          "base_uri": "https://localhost:8080/",
          "height": 191
        },
        "outputId": "8e31cc03-b0ec-4a92-f7b3-f503b28c5c7d"
      },
      "source": [
        "print(\"original pattern s is:\")\n",
        "print(s)\n",
        "print(\"predicted pattern for s is:\")\n",
        "print(prediction)"
      ],
      "execution_count": 9,
      "outputs": [
        {
          "output_type": "stream",
          "text": [
            "original pattern s is:\n",
            "[[ 1]\n",
            " [ 1]\n",
            " [ 1]\n",
            " [-1]]\n",
            "predicted pattern for s is:\n",
            "[[ 1]\n",
            " [ 1]\n",
            " [ 1]\n",
            " [-1]]\n"
          ],
          "name": "stdout"
        }
      ]
    },
    {
      "cell_type": "markdown",
      "metadata": {
        "id": "pKIEY8-1U_Eg",
        "colab_type": "text"
      },
      "source": [
        "## Part2"
      ]
    },
    {
      "cell_type": "code",
      "metadata": {
        "id": "tqhWQv20VAHV",
        "colab_type": "code",
        "colab": {}
      },
      "source": [
        "s1 = np.array([0, 0, 0, -1])\n",
        "s1 = s1.reshape(-1, 1)\n",
        "prediction_s1_out = make_predictions(s1, weight, activation_function)\n",
        "prediction_s1_in = make_predictions(prediction_s1_out, weight, activation_function)\n"
      ],
      "execution_count": 0,
      "outputs": []
    },
    {
      "cell_type": "code",
      "metadata": {
        "id": "IQUjJd3rVaXS",
        "colab_type": "code",
        "colab": {
          "base_uri": "https://localhost:8080/",
          "height": 364
        },
        "outputId": "5b6cf0f8-f391-4f8c-db6b-85ea446c797c"
      },
      "source": [
        "print(\"original pattern s is:\")\n",
        "print(s)\n",
        "print(\"disturbed pattern for s is:\")\n",
        "print(s1)\n",
        "print(\"predicted output pattern for s is:\")\n",
        "print(prediction_s1_out)\n",
        "print(\"predicted input pattern for s is:\")\n",
        "print(prediction_s1_in)\n"
      ],
      "execution_count": 17,
      "outputs": [
        {
          "output_type": "stream",
          "text": [
            "original pattern s is:\n",
            "[[ 1]\n",
            " [ 1]\n",
            " [ 1]\n",
            " [-1]]\n",
            "disturbed pattern for s is:\n",
            "[[ 0]\n",
            " [ 0]\n",
            " [ 0]\n",
            " [-1]]\n",
            "predicted output pattern for s is:\n",
            "[[1]\n",
            " [1]\n",
            " [1]\n",
            " [1]]\n",
            "predicted input pattern for s is:\n",
            "[[ 1]\n",
            " [ 1]\n",
            " [ 1]\n",
            " [-1]]\n"
          ],
          "name": "stdout"
        }
      ]
    },
    {
      "cell_type": "code",
      "metadata": {
        "id": "jEkSuQaMVkvP",
        "colab_type": "code",
        "colab": {}
      },
      "source": [
        "s2 = np.array([1, 0, 0, 0])\n",
        "s2 = s2.reshape(-1, 1)\n",
        "prediction_s2_out = make_predictions(s2, weight, activation_function)\n",
        "# prediction_s2_in = make_predictions(prediction_s2_out, weight, activation_function)"
      ],
      "execution_count": 0,
      "outputs": []
    },
    {
      "cell_type": "code",
      "metadata": {
        "id": "l8GsthvoWBsD",
        "colab_type": "code",
        "colab": {
          "base_uri": "https://localhost:8080/",
          "height": 278
        },
        "outputId": "3e369673-d6c9-4da0-b740-3988ba5eb8cc"
      },
      "source": [
        "print(\"original pattern s is:\")\n",
        "print(s)\n",
        "print(\"disturbed pattern for s is:\")\n",
        "print(s2)\n",
        "print(\"predicted output pattern for s is:\")\n",
        "print(prediction_s2_out)\n",
        "# print(\"predicted input pattern for s is:\")\n",
        "# print(prediction_s2_in)\n"
      ],
      "execution_count": 21,
      "outputs": [
        {
          "output_type": "stream",
          "text": [
            "original pattern s is:\n",
            "[[ 1]\n",
            " [ 1]\n",
            " [ 1]\n",
            " [-1]]\n",
            "disturbed pattern for s is:\n",
            "[[1]\n",
            " [0]\n",
            " [0]\n",
            " [0]]\n",
            "predicted output pattern for s is:\n",
            "[[ 1]\n",
            " [ 1]\n",
            " [ 1]\n",
            " [-1]]\n"
          ],
          "name": "stdout"
        }
      ]
    },
    {
      "cell_type": "code",
      "metadata": {
        "id": "4cS0RK4gWHGK",
        "colab_type": "code",
        "colab": {}
      },
      "source": [
        "s3 = np.array([0, 1, 0, 0])\n",
        "s3 = s3.reshape(-1, 1)\n",
        "prediction_s3_out = make_predictions(s3, weight, activation_function)\n",
        "# prediction_s3_in = make_predictions(prediction_s3_out, weight, activation_function)"
      ],
      "execution_count": 0,
      "outputs": []
    },
    {
      "cell_type": "code",
      "metadata": {
        "id": "OgkzFUTyWWcc",
        "colab_type": "code",
        "colab": {
          "base_uri": "https://localhost:8080/",
          "height": 278
        },
        "outputId": "d13dde11-5007-424c-acda-554b585f6ce0"
      },
      "source": [
        "print(\"original pattern s is:\")\n",
        "print(s)\n",
        "print(\"disturbed pattern for s is:\")\n",
        "print(s3)\n",
        "print(\"predicted output pattern for s is:\")\n",
        "print(prediction_s3_out)\n",
        "# print(\"predicted input pattern for s is:\")\n",
        "# print(prediction_s3_in)\n"
      ],
      "execution_count": 23,
      "outputs": [
        {
          "output_type": "stream",
          "text": [
            "original pattern s is:\n",
            "[[ 1]\n",
            " [ 1]\n",
            " [ 1]\n",
            " [-1]]\n",
            "disturbed pattern for s is:\n",
            "[[0]\n",
            " [1]\n",
            " [0]\n",
            " [0]]\n",
            "predicted output pattern for s is:\n",
            "[[ 1]\n",
            " [ 1]\n",
            " [ 1]\n",
            " [-1]]\n"
          ],
          "name": "stdout"
        }
      ]
    },
    {
      "cell_type": "code",
      "metadata": {
        "id": "EUBwRBLuWbZx",
        "colab_type": "code",
        "colab": {}
      },
      "source": [
        "s4 = np.array([0, 0, 1, 0])\n",
        "s4 = s4.reshape(-1, 1)\n",
        "prediction_s4_out = make_predictions(s4, weight, activation_function)\n",
        "# prediction_s4_in = make_predictions(prediction_s4_out, weight, activation_function)"
      ],
      "execution_count": 0,
      "outputs": []
    },
    {
      "cell_type": "code",
      "metadata": {
        "id": "b47560jBWlvw",
        "colab_type": "code",
        "colab": {
          "base_uri": "https://localhost:8080/",
          "height": 278
        },
        "outputId": "92fb325e-7c27-4c42-ee02-7f7e599a589f"
      },
      "source": [
        "print(\"original pattern s is:\")\n",
        "print(s)\n",
        "print(\"disturbed pattern for s is:\")\n",
        "print(s4)\n",
        "print(\"predicted output pattern for s is:\")\n",
        "print(prediction_s4_out)\n",
        "# print(\"predicted input pattern for s is:\")\n",
        "# print(prediction_s4_in)\n"
      ],
      "execution_count": 25,
      "outputs": [
        {
          "output_type": "stream",
          "text": [
            "original pattern s is:\n",
            "[[ 1]\n",
            " [ 1]\n",
            " [ 1]\n",
            " [-1]]\n",
            "disturbed pattern for s is:\n",
            "[[0]\n",
            " [0]\n",
            " [1]\n",
            " [0]]\n",
            "predicted output pattern for s is:\n",
            "[[ 1]\n",
            " [ 1]\n",
            " [ 1]\n",
            " [-1]]\n"
          ],
          "name": "stdout"
        }
      ]
    },
    {
      "cell_type": "markdown",
      "metadata": {
        "id": "wkPntZ_jWu9x",
        "colab_type": "text"
      },
      "source": [
        "## Part3"
      ]
    },
    {
      "cell_type": "code",
      "metadata": {
        "id": "PZx4Z-gfWwFO",
        "colab_type": "code",
        "colab": {}
      },
      "source": [
        "s1 = np.array([-1, -1, -1, -1])\n",
        "s1 = s1.reshape(-1, 1)\n",
        "prediction_s1_out = make_predictions(s1, weight, activation_function)\n",
        "prediction_s1_in = make_predictions(prediction_s1_out, weight, activation_function)\n"
      ],
      "execution_count": 0,
      "outputs": []
    },
    {
      "cell_type": "code",
      "metadata": {
        "id": "bwpDqV6IW_xI",
        "colab_type": "code",
        "colab": {
          "base_uri": "https://localhost:8080/",
          "height": 364
        },
        "outputId": "9510d56c-0ee3-4f1d-e572-91645c748334"
      },
      "source": [
        "print(\"original pattern s is:\")\n",
        "print(s)\n",
        "print(\"disturbed pattern for s is:\")\n",
        "print(s1)\n",
        "print(\"predicted output pattern for s is:\")\n",
        "print(prediction_s1_out)\n",
        "print(\"predicted input pattern for s is:\")\n",
        "print(prediction_s1_in)"
      ],
      "execution_count": 27,
      "outputs": [
        {
          "output_type": "stream",
          "text": [
            "original pattern s is:\n",
            "[[ 1]\n",
            " [ 1]\n",
            " [ 1]\n",
            " [-1]]\n",
            "disturbed pattern for s is:\n",
            "[[-1]\n",
            " [-1]\n",
            " [-1]\n",
            " [-1]]\n",
            "predicted output pattern for s is:\n",
            "[[-1]\n",
            " [-1]\n",
            " [-1]\n",
            " [ 1]]\n",
            "predicted input pattern for s is:\n",
            "[[-1]\n",
            " [-1]\n",
            " [-1]\n",
            " [ 1]]\n"
          ],
          "name": "stdout"
        }
      ]
    },
    {
      "cell_type": "code",
      "metadata": {
        "id": "8z_6gPo-XDpr",
        "colab_type": "code",
        "colab": {}
      },
      "source": [
        "s2 = np.array([1, -1, -1, 1])\n",
        "s2 = s2.reshape(-1, 1)\n",
        "prediction_s2_out = make_predictions(s2, weight, activation_function)\n",
        "prediction_s2_in = make_predictions(prediction_s2_out, weight, activation_function)"
      ],
      "execution_count": 0,
      "outputs": []
    },
    {
      "cell_type": "code",
      "metadata": {
        "id": "zYWg8oBFXOMB",
        "colab_type": "code",
        "colab": {
          "base_uri": "https://localhost:8080/",
          "height": 364
        },
        "outputId": "8b576676-e0a7-42e7-8e27-60571194f7ac"
      },
      "source": [
        "print(\"original pattern s is:\")\n",
        "print(s)\n",
        "print(\"disturbed pattern for s is:\")\n",
        "print(s2)\n",
        "print(\"predicted output pattern for s is:\")\n",
        "print(prediction_s2_out)\n",
        "print(\"predicted input pattern for s is:\")\n",
        "print(prediction_s2_in)\n"
      ],
      "execution_count": 31,
      "outputs": [
        {
          "output_type": "stream",
          "text": [
            "original pattern s is:\n",
            "[[ 1]\n",
            " [ 1]\n",
            " [ 1]\n",
            " [-1]]\n",
            "disturbed pattern for s is:\n",
            "[[ 1]\n",
            " [-1]\n",
            " [-1]\n",
            " [ 1]]\n",
            "predicted output pattern for s is:\n",
            "[[-1]\n",
            " [-1]\n",
            " [-1]\n",
            " [ 1]]\n",
            "predicted input pattern for s is:\n",
            "[[-1]\n",
            " [-1]\n",
            " [-1]\n",
            " [ 1]]\n"
          ],
          "name": "stdout"
        }
      ]
    },
    {
      "cell_type": "code",
      "metadata": {
        "id": "5F3xZry2XRyW",
        "colab_type": "code",
        "colab": {}
      },
      "source": [
        "s3 = np.array([-1, 1, -1, 1])\n",
        "s3 = s3.reshape(-1, 1)\n",
        "prediction_s3_out = make_predictions(s3, weight, activation_function)\n",
        "prediction_s3_in = make_predictions(prediction_s3_out, weight, activation_function)"
      ],
      "execution_count": 0,
      "outputs": []
    },
    {
      "cell_type": "code",
      "metadata": {
        "id": "aMfAmyzbXeqy",
        "colab_type": "code",
        "colab": {
          "base_uri": "https://localhost:8080/",
          "height": 364
        },
        "outputId": "fb5cc80d-3baf-4338-fba6-f80767d50228"
      },
      "source": [
        "print(\"original pattern s is:\")\n",
        "print(s)\n",
        "print(\"disturbed pattern for s is:\")\n",
        "print(s3)\n",
        "print(\"predicted output pattern for s is:\")\n",
        "print(prediction_s3_out)\n",
        "print(\"predicted input pattern for s is:\")\n",
        "print(prediction_s3_in)"
      ],
      "execution_count": 35,
      "outputs": [
        {
          "output_type": "stream",
          "text": [
            "original pattern s is:\n",
            "[[ 1]\n",
            " [ 1]\n",
            " [ 1]\n",
            " [-1]]\n",
            "disturbed pattern for s is:\n",
            "[[-1]\n",
            " [ 1]\n",
            " [-1]\n",
            " [ 1]]\n",
            "predicted output pattern for s is:\n",
            "[[-1]\n",
            " [-1]\n",
            " [-1]\n",
            " [ 1]]\n",
            "predicted input pattern for s is:\n",
            "[[-1]\n",
            " [-1]\n",
            " [-1]\n",
            " [ 1]]\n"
          ],
          "name": "stdout"
        }
      ]
    },
    {
      "cell_type": "code",
      "metadata": {
        "id": "Vm-Ikc7iXhxm",
        "colab_type": "code",
        "colab": {}
      },
      "source": [
        "s4 = np.array([-1, -1, 1, 1])\n",
        "s4 = s4.reshape(-1, 1)\n",
        "prediction_s4_out = make_predictions(s4, weight, activation_function)\n",
        "prediction_s4_in = make_predictions(prediction_s4_out, weight, activation_function)"
      ],
      "execution_count": 0,
      "outputs": []
    },
    {
      "cell_type": "code",
      "metadata": {
        "id": "9jt4ySTrXwQX",
        "colab_type": "code",
        "colab": {
          "base_uri": "https://localhost:8080/",
          "height": 364
        },
        "outputId": "6d637888-a0f7-41c9-f238-9e090bdeee03"
      },
      "source": [
        "print(\"original pattern s is:\")\n",
        "print(s)\n",
        "print(\"disturbed pattern for s is:\")\n",
        "print(s4)\n",
        "print(\"predicted output pattern for s is:\")\n",
        "print(prediction_s4_out)\n",
        "print(\"predicted input pattern for s is:\")\n",
        "print(prediction_s4_in)\n"
      ],
      "execution_count": 39,
      "outputs": [
        {
          "output_type": "stream",
          "text": [
            "original pattern s is:\n",
            "[[ 1]\n",
            " [ 1]\n",
            " [ 1]\n",
            " [-1]]\n",
            "disturbed pattern for s is:\n",
            "[[-1]\n",
            " [-1]\n",
            " [ 1]\n",
            " [ 1]]\n",
            "predicted output pattern for s is:\n",
            "[[-1]\n",
            " [-1]\n",
            " [-1]\n",
            " [ 1]]\n",
            "predicted input pattern for s is:\n",
            "[[-1]\n",
            " [-1]\n",
            " [-1]\n",
            " [ 1]]\n"
          ],
          "name": "stdout"
        }
      ]
    },
    {
      "cell_type": "markdown",
      "metadata": {
        "id": "eByENTf-aOWt",
        "colab_type": "text"
      },
      "source": [
        "## Part4"
      ]
    },
    {
      "cell_type": "code",
      "metadata": {
        "id": "O_dpjcziaPyt",
        "colab_type": "code",
        "colab": {}
      },
      "source": [
        "def a_function(x):\n",
        "    y = 2*(x>=0) - 1\n",
        "    y[x == 0] = x[x==0]\n",
        "    return y"
      ],
      "execution_count": 0,
      "outputs": []
    },
    {
      "cell_type": "code",
      "metadata": {
        "id": "OIlh07oWszIp",
        "colab_type": "code",
        "colab": {}
      },
      "source": [
        "def hopfield_prediction(input_array, index_list,  weight, activation_function):\n",
        "  copy_input = copy.deepcopy(input_array)\n",
        "  for i in (index_list):\n",
        "    prediction = activation_function(np.matmul(copy_input.T, weight) + copy_input.T).T\n",
        "    copy_input[i] = prediction[i]\n",
        "    print(\"output in iteration:\")\n",
        "    print(copy_input)\n",
        "  return copy_input"
      ],
      "execution_count": 0,
      "outputs": []
    },
    {
      "cell_type": "markdown",
      "metadata": {
        "id": "G9Dfs1Vm2tgA",
        "colab_type": "text"
      },
      "source": [
        "For missed data"
      ]
    },
    {
      "cell_type": "code",
      "metadata": {
        "id": "ZM8Ibt0fwzqQ",
        "colab_type": "code",
        "colab": {
          "base_uri": "https://localhost:8080/",
          "height": 382
        },
        "outputId": "f9534175-9bb1-439f-afcb-129f3399ffee"
      },
      "source": [
        "s1 = np.array([0,0,0,-1])\n",
        "s1 = s1.reshape(-1, 1)\n",
        "index_list = [0, 1, 2, 3]\n",
        "random.shuffle(index_list)\n",
        "print(\"index list is: \",index_list)\n",
        "p_s1 = hopfield_prediction(s1, index_list, weight, a_function)"
      ],
      "execution_count": 57,
      "outputs": [
        {
          "output_type": "stream",
          "text": [
            "index list is:  [0, 3, 1, 2]\n",
            "output in iteration:\n",
            "[[ 1]\n",
            " [ 0]\n",
            " [ 0]\n",
            " [-1]]\n",
            "output in iteration:\n",
            "[[ 1]\n",
            " [ 0]\n",
            " [ 0]\n",
            " [-1]]\n",
            "output in iteration:\n",
            "[[ 1]\n",
            " [ 1]\n",
            " [ 0]\n",
            " [-1]]\n",
            "output in iteration:\n",
            "[[ 1]\n",
            " [ 1]\n",
            " [ 1]\n",
            " [-1]]\n"
          ],
          "name": "stdout"
        }
      ]
    },
    {
      "cell_type": "code",
      "metadata": {
        "id": "yvatFTuJw8EY",
        "colab_type": "code",
        "colab": {
          "base_uri": "https://localhost:8080/",
          "height": 278
        },
        "outputId": "26cb7c1d-9f4c-432f-f80b-237688450c6c"
      },
      "source": [
        "print(\"original pattern s is:\")\n",
        "print(s)\n",
        "print(\"disturbed pattern for s is:\")\n",
        "print(s1)\n",
        "print(\"predicted output pattern for s is:\")\n",
        "print(p_s1)"
      ],
      "execution_count": 58,
      "outputs": [
        {
          "output_type": "stream",
          "text": [
            "original pattern s is:\n",
            "[[ 1]\n",
            " [ 1]\n",
            " [ 1]\n",
            " [-1]]\n",
            "disturbed pattern for s is:\n",
            "[[ 0]\n",
            " [ 0]\n",
            " [ 0]\n",
            " [-1]]\n",
            "predicted output pattern for s is:\n",
            "[[ 1]\n",
            " [ 1]\n",
            " [ 1]\n",
            " [-1]]\n"
          ],
          "name": "stdout"
        }
      ]
    },
    {
      "cell_type": "code",
      "metadata": {
        "id": "OxGqpZGyyhlR",
        "colab_type": "code",
        "colab": {
          "base_uri": "https://localhost:8080/",
          "height": 382
        },
        "outputId": "c86444e2-e6c4-46f1-df87-90cb778229a8"
      },
      "source": [
        "s2 = np.array([1, 0, 0, 0])\n",
        "s2 = s2.reshape(-1, 1)\n",
        "index_list = [0, 1, 2, 3]\n",
        "random.shuffle(index_list)\n",
        "print(\"index list is: \", index_list)\n",
        "p_s2 = hopfield_prediction(s2, index_list, weight, a_function)"
      ],
      "execution_count": 59,
      "outputs": [
        {
          "output_type": "stream",
          "text": [
            "index list is:  [1, 2, 0, 3]\n",
            "output in iteration:\n",
            "[[1]\n",
            " [1]\n",
            " [0]\n",
            " [0]]\n",
            "output in iteration:\n",
            "[[1]\n",
            " [1]\n",
            " [1]\n",
            " [0]]\n",
            "output in iteration:\n",
            "[[1]\n",
            " [1]\n",
            " [1]\n",
            " [0]]\n",
            "output in iteration:\n",
            "[[ 1]\n",
            " [ 1]\n",
            " [ 1]\n",
            " [-1]]\n"
          ],
          "name": "stdout"
        }
      ]
    },
    {
      "cell_type": "code",
      "metadata": {
        "id": "TUM9xr8vzLGi",
        "colab_type": "code",
        "colab": {
          "base_uri": "https://localhost:8080/",
          "height": 278
        },
        "outputId": "c599dd02-caf9-48bc-9b1e-294e20b08b4a"
      },
      "source": [
        "print(\"original pattern s is:\")\n",
        "print(s)\n",
        "print(\"disturbed pattern for s is:\")\n",
        "print(s2)\n",
        "print(\"predicted output pattern for s is:\")\n",
        "print(p_s2)"
      ],
      "execution_count": 60,
      "outputs": [
        {
          "output_type": "stream",
          "text": [
            "original pattern s is:\n",
            "[[ 1]\n",
            " [ 1]\n",
            " [ 1]\n",
            " [-1]]\n",
            "disturbed pattern for s is:\n",
            "[[1]\n",
            " [0]\n",
            " [0]\n",
            " [0]]\n",
            "predicted output pattern for s is:\n",
            "[[ 1]\n",
            " [ 1]\n",
            " [ 1]\n",
            " [-1]]\n"
          ],
          "name": "stdout"
        }
      ]
    },
    {
      "cell_type": "code",
      "metadata": {
        "id": "XTKMLx7Xzb1G",
        "colab_type": "code",
        "colab": {
          "base_uri": "https://localhost:8080/",
          "height": 382
        },
        "outputId": "07c2e904-9b0f-46d7-f377-aa258c461ac6"
      },
      "source": [
        "s3 = np.array([0, 1, 0, 0])\n",
        "s3 = s3.reshape(-1, 1)\n",
        "index_list = [0, 1, 2, 3]\n",
        "random.shuffle(index_list)\n",
        "print(\"index list is: \", index_list)\n",
        "p_s3 = hopfield_prediction(s3, index_list, weight, a_function)"
      ],
      "execution_count": 61,
      "outputs": [
        {
          "output_type": "stream",
          "text": [
            "index list is:  [3, 0, 2, 1]\n",
            "output in iteration:\n",
            "[[ 0]\n",
            " [ 1]\n",
            " [ 0]\n",
            " [-1]]\n",
            "output in iteration:\n",
            "[[ 1]\n",
            " [ 1]\n",
            " [ 0]\n",
            " [-1]]\n",
            "output in iteration:\n",
            "[[ 1]\n",
            " [ 1]\n",
            " [ 1]\n",
            " [-1]]\n",
            "output in iteration:\n",
            "[[ 1]\n",
            " [ 1]\n",
            " [ 1]\n",
            " [-1]]\n"
          ],
          "name": "stdout"
        }
      ]
    },
    {
      "cell_type": "code",
      "metadata": {
        "id": "bevQwM8AznGY",
        "colab_type": "code",
        "colab": {
          "base_uri": "https://localhost:8080/",
          "height": 278
        },
        "outputId": "3046a27b-13dc-47ca-e27e-847b1d5a5cfa"
      },
      "source": [
        "print(\"original pattern s is:\")\n",
        "print(s)\n",
        "print(\"disturbed pattern for s is:\")\n",
        "print(s3)\n",
        "print(\"predicted output pattern for s is:\")\n",
        "print(p_s3)"
      ],
      "execution_count": 62,
      "outputs": [
        {
          "output_type": "stream",
          "text": [
            "original pattern s is:\n",
            "[[ 1]\n",
            " [ 1]\n",
            " [ 1]\n",
            " [-1]]\n",
            "disturbed pattern for s is:\n",
            "[[0]\n",
            " [1]\n",
            " [0]\n",
            " [0]]\n",
            "predicted output pattern for s is:\n",
            "[[ 1]\n",
            " [ 1]\n",
            " [ 1]\n",
            " [-1]]\n"
          ],
          "name": "stdout"
        }
      ]
    },
    {
      "cell_type": "code",
      "metadata": {
        "id": "EAv13cHdzsbe",
        "colab_type": "code",
        "colab": {
          "base_uri": "https://localhost:8080/",
          "height": 382
        },
        "outputId": "7cda26a5-4f8b-4a2f-e679-76ef0e6ae544"
      },
      "source": [
        "s4 = np.array([0, 0, 1, 0])\n",
        "s4 = s4.reshape(-1, 1)\n",
        "index_list = [0, 1, 2, 3]\n",
        "random.shuffle(index_list)\n",
        "print(\"index list is: \", index_list)\n",
        "p_s4 = hopfield_prediction(s4, index_list, weight, a_function)"
      ],
      "execution_count": 65,
      "outputs": [
        {
          "output_type": "stream",
          "text": [
            "index list is:  [1, 2, 0, 3]\n",
            "output in iteration:\n",
            "[[0]\n",
            " [1]\n",
            " [1]\n",
            " [0]]\n",
            "output in iteration:\n",
            "[[0]\n",
            " [1]\n",
            " [1]\n",
            " [0]]\n",
            "output in iteration:\n",
            "[[1]\n",
            " [1]\n",
            " [1]\n",
            " [0]]\n",
            "output in iteration:\n",
            "[[ 1]\n",
            " [ 1]\n",
            " [ 1]\n",
            " [-1]]\n"
          ],
          "name": "stdout"
        }
      ]
    },
    {
      "cell_type": "code",
      "metadata": {
        "id": "C3XDtU2O2lqO",
        "colab_type": "code",
        "colab": {
          "base_uri": "https://localhost:8080/",
          "height": 278
        },
        "outputId": "e64fce14-df33-4867-cef4-4fbc74ff2210"
      },
      "source": [
        "print(\"original pattern s is:\")\n",
        "print(s)\n",
        "print(\"disturbed pattern for s is:\")\n",
        "print(s4)\n",
        "print(\"predicted output pattern for s is:\")\n",
        "print(p_s4)"
      ],
      "execution_count": 67,
      "outputs": [
        {
          "output_type": "stream",
          "text": [
            "original pattern s is:\n",
            "[[ 1]\n",
            " [ 1]\n",
            " [ 1]\n",
            " [-1]]\n",
            "disturbed pattern for s is:\n",
            "[[0]\n",
            " [0]\n",
            " [1]\n",
            " [0]]\n",
            "predicted output pattern for s is:\n",
            "[[ 1]\n",
            " [ 1]\n",
            " [ 1]\n",
            " [-1]]\n"
          ],
          "name": "stdout"
        }
      ]
    },
    {
      "cell_type": "markdown",
      "metadata": {
        "id": "oNSQLCMi2zVD",
        "colab_type": "text"
      },
      "source": [
        "For noisy data"
      ]
    },
    {
      "cell_type": "code",
      "metadata": {
        "id": "ilG1Ozcx21vB",
        "colab_type": "code",
        "colab": {
          "base_uri": "https://localhost:8080/",
          "height": 382
        },
        "outputId": "c0f1932a-62fb-4d5d-ec37-3180f3b46b10"
      },
      "source": [
        "s1 = np.array([-1, -1, -1, -1])\n",
        "s1 = s1.reshape(-1, 1)\n",
        "index_list = [0, 1, 2, 3]\n",
        "random.shuffle(index_list)\n",
        "print(\"index list is: \",index_list)\n",
        "p_s1 = hopfield_prediction(s1, index_list, weight, a_function)"
      ],
      "execution_count": 64,
      "outputs": [
        {
          "output_type": "stream",
          "text": [
            "index list is:  [2, 0, 3, 1]\n",
            "output in iteration:\n",
            "[[-1]\n",
            " [-1]\n",
            " [-1]\n",
            " [-1]]\n",
            "output in iteration:\n",
            "[[-1]\n",
            " [-1]\n",
            " [-1]\n",
            " [-1]]\n",
            "output in iteration:\n",
            "[[-1]\n",
            " [-1]\n",
            " [-1]\n",
            " [ 1]]\n",
            "output in iteration:\n",
            "[[-1]\n",
            " [-1]\n",
            " [-1]\n",
            " [ 1]]\n"
          ],
          "name": "stdout"
        }
      ]
    },
    {
      "cell_type": "code",
      "metadata": {
        "id": "-4oOA5Px3Dp3",
        "colab_type": "code",
        "colab": {
          "base_uri": "https://localhost:8080/",
          "height": 382
        },
        "outputId": "d4e0bdd8-9861-4d17-eaae-180427a4fe79"
      },
      "source": [
        "s2 = np.array([1, -1, -1, 1])\n",
        "s2 = s2.reshape(-1, 1)\n",
        "index_list = [0, 1, 2, 3]\n",
        "random.shuffle(index_list)\n",
        "print(\"index list is: \", index_list)\n",
        "p_s2 = hopfield_prediction(s2, index_list, weight, a_function)"
      ],
      "execution_count": 68,
      "outputs": [
        {
          "output_type": "stream",
          "text": [
            "index list is:  [3, 2, 0, 1]\n",
            "output in iteration:\n",
            "[[ 1]\n",
            " [-1]\n",
            " [-1]\n",
            " [ 1]]\n",
            "output in iteration:\n",
            "[[ 1]\n",
            " [-1]\n",
            " [-1]\n",
            " [ 1]]\n",
            "output in iteration:\n",
            "[[-1]\n",
            " [-1]\n",
            " [-1]\n",
            " [ 1]]\n",
            "output in iteration:\n",
            "[[-1]\n",
            " [-1]\n",
            " [-1]\n",
            " [ 1]]\n"
          ],
          "name": "stdout"
        }
      ]
    },
    {
      "cell_type": "code",
      "metadata": {
        "id": "ddorEfmk3eSw",
        "colab_type": "code",
        "colab": {
          "base_uri": "https://localhost:8080/",
          "height": 278
        },
        "outputId": "c539333c-63d5-45c6-9b6c-26a3aa248223"
      },
      "source": [
        "print(\"original pattern s is:\")\n",
        "print(s)\n",
        "print(\"disturbed pattern for s is:\")\n",
        "print(s2)\n",
        "print(\"predicted output pattern for s is:\")\n",
        "print(p_s2)"
      ],
      "execution_count": 69,
      "outputs": [
        {
          "output_type": "stream",
          "text": [
            "original pattern s is:\n",
            "[[ 1]\n",
            " [ 1]\n",
            " [ 1]\n",
            " [-1]]\n",
            "disturbed pattern for s is:\n",
            "[[ 1]\n",
            " [-1]\n",
            " [-1]\n",
            " [ 1]]\n",
            "predicted output pattern for s is:\n",
            "[[-1]\n",
            " [-1]\n",
            " [-1]\n",
            " [ 1]]\n"
          ],
          "name": "stdout"
        }
      ]
    },
    {
      "cell_type": "code",
      "metadata": {
        "id": "yhPEjBzg3e_L",
        "colab_type": "code",
        "colab": {
          "base_uri": "https://localhost:8080/",
          "height": 382
        },
        "outputId": "0ea29d08-8ea6-43a9-edf1-056e166e7632"
      },
      "source": [
        "s3 = np.array([-1, 1, -1, 1])\n",
        "s3 = s3.reshape(-1, 1)\n",
        "index_list = [0, 1, 2, 3]\n",
        "random.shuffle(index_list)\n",
        "print(\"index list is: \", index_list)\n",
        "p_s3 = hopfield_prediction(s3, index_list, weight, a_function)"
      ],
      "execution_count": 70,
      "outputs": [
        {
          "output_type": "stream",
          "text": [
            "index list is:  [2, 3, 1, 0]\n",
            "output in iteration:\n",
            "[[-1]\n",
            " [ 1]\n",
            " [-1]\n",
            " [ 1]]\n",
            "output in iteration:\n",
            "[[-1]\n",
            " [ 1]\n",
            " [-1]\n",
            " [ 1]]\n",
            "output in iteration:\n",
            "[[-1]\n",
            " [-1]\n",
            " [-1]\n",
            " [ 1]]\n",
            "output in iteration:\n",
            "[[-1]\n",
            " [-1]\n",
            " [-1]\n",
            " [ 1]]\n"
          ],
          "name": "stdout"
        }
      ]
    },
    {
      "cell_type": "code",
      "metadata": {
        "id": "vR13v3Vs3p5R",
        "colab_type": "code",
        "colab": {
          "base_uri": "https://localhost:8080/",
          "height": 278
        },
        "outputId": "fab5d8f2-ef86-4bad-cebf-590997e50a0d"
      },
      "source": [
        "print(\"original pattern s is:\")\n",
        "print(s)\n",
        "print(\"disturbed pattern for s is:\")\n",
        "print(s3)\n",
        "print(\"predicted output pattern for s is:\")\n",
        "print(p_s3)"
      ],
      "execution_count": 71,
      "outputs": [
        {
          "output_type": "stream",
          "text": [
            "original pattern s is:\n",
            "[[ 1]\n",
            " [ 1]\n",
            " [ 1]\n",
            " [-1]]\n",
            "disturbed pattern for s is:\n",
            "[[-1]\n",
            " [ 1]\n",
            " [-1]\n",
            " [ 1]]\n",
            "predicted output pattern for s is:\n",
            "[[-1]\n",
            " [-1]\n",
            " [-1]\n",
            " [ 1]]\n"
          ],
          "name": "stdout"
        }
      ]
    },
    {
      "cell_type": "code",
      "metadata": {
        "id": "ozqdd_kn3uIo",
        "colab_type": "code",
        "colab": {
          "base_uri": "https://localhost:8080/",
          "height": 382
        },
        "outputId": "f86c57ee-16d1-49ec-d901-31b77b07b29e"
      },
      "source": [
        "s4 = np.array([-1, -1, 1, 1])\n",
        "s4 = s4.reshape(-1, 1)\n",
        "index_list = [0, 1, 2, 3]\n",
        "random.shuffle(index_list)\n",
        "print(\"index list is: \", index_list)\n",
        "p_s4 = hopfield_prediction(s4, index_list, weight, a_function)"
      ],
      "execution_count": 72,
      "outputs": [
        {
          "output_type": "stream",
          "text": [
            "index list is:  [0, 2, 3, 1]\n",
            "output in iteration:\n",
            "[[-1]\n",
            " [-1]\n",
            " [ 1]\n",
            " [ 1]]\n",
            "output in iteration:\n",
            "[[-1]\n",
            " [-1]\n",
            " [-1]\n",
            " [ 1]]\n",
            "output in iteration:\n",
            "[[-1]\n",
            " [-1]\n",
            " [-1]\n",
            " [ 1]]\n",
            "output in iteration:\n",
            "[[-1]\n",
            " [-1]\n",
            " [-1]\n",
            " [ 1]]\n"
          ],
          "name": "stdout"
        }
      ]
    },
    {
      "cell_type": "code",
      "metadata": {
        "id": "8jipc_8s5yVm",
        "colab_type": "code",
        "colab": {
          "base_uri": "https://localhost:8080/",
          "height": 278
        },
        "outputId": "60ec3d2f-f5a6-4e57-e553-2c6a2a75dab5"
      },
      "source": [
        "print(\"original pattern s is:\")\n",
        "print(s)\n",
        "print(\"disturbed pattern for s is:\")\n",
        "print(s4)\n",
        "print(\"predicted output pattern for s is:\")\n",
        "print(p_s4)"
      ],
      "execution_count": 73,
      "outputs": [
        {
          "output_type": "stream",
          "text": [
            "original pattern s is:\n",
            "[[ 1]\n",
            " [ 1]\n",
            " [ 1]\n",
            " [-1]]\n",
            "disturbed pattern for s is:\n",
            "[[-1]\n",
            " [-1]\n",
            " [ 1]\n",
            " [ 1]]\n",
            "predicted output pattern for s is:\n",
            "[[-1]\n",
            " [-1]\n",
            " [-1]\n",
            " [ 1]]\n"
          ],
          "name": "stdout"
        }
      ]
    },
    {
      "cell_type": "code",
      "metadata": {
        "id": "mC-mH14l5155",
        "colab_type": "code",
        "colab": {}
      },
      "source": [
        ""
      ],
      "execution_count": 0,
      "outputs": []
    }
  ]
}